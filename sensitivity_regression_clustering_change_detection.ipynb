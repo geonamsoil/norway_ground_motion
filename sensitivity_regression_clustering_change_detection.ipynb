{
 "cells": [
  {
   "cell_type": "markdown",
   "id": "443f029e-e967-4df5-af95-63de8fbac0f3",
   "metadata": {},
   "source": [
    "# Regression clustering and change point detection"
   ]
  },
  {
   "cell_type": "code",
   "execution_count": null,
   "id": "b26f1458-eac9-41a9-ae28-6c12fa6d8c82",
   "metadata": {},
   "outputs": [],
   "source": [
    "# import numpy as np\n",
    "import pandas as pd\n",
    "import geopandas as gpd\n",
    "import matplotlib.pyplot as plt\n",
    "from ipywidgets import *\n",
    "import numpy as np\n",
    "from scipy import stats\n"
   ]
  },
  {
   "cell_type": "code",
   "execution_count": null,
   "id": "54a61f10-15b3-40ae-9449-7a344be687e3",
   "metadata": {},
   "outputs": [],
   "source": [
    "gm_csv = pd.read_csv('./tmp/160-IW1-414-s1-asc1-v2020.csv')\n",
    "# remove whitespaces from column names \n",
    "gm_csv.rename(columns=lambda x: x.strip(), inplace=True)\n",
    "#transposer - rowes are columns and vice versa\n",
    "gm_csv_t = gm_csv.T\n",
    "# set the 'pid' as the column name\n",
    "gm_csv_t.rename(columns=gm_csv_t.iloc[0], inplace=True)\n",
    "#remove all rows which are not dates - first date is on entry #21\n",
    "gm_csv_t_dates= gm_csv_t.iloc[21: , :]\n",
    "gm_csv_t_dates.columns = gm_csv_t_dates.columns.astype(str)"
   ]
  },
  {
   "cell_type": "code",
   "execution_count": null,
   "id": "b18dce35-50e2-463c-a070-167bdbbce169",
   "metadata": {},
   "outputs": [],
   "source": [
    "#need to make a copy of the dataframe so that I don't mess it up\n",
    "gm_copy = gm_csv_t_dates.copy()"
   ]
  },
  {
   "cell_type": "markdown",
   "id": "a2a63fdb-756c-4c9f-9396-83906e312451",
   "metadata": {
    "tags": []
   },
   "source": [
    "### Linear regression on timeseries - what are the trends that we are trying to pick up??\n",
    "\n",
    "* Ascending, descending, constant or irregular\n",
    "* Seasonality trends\n",
    "* Points of change in the behaviour\n",
    "\n",
    "http://kdd.ics.uci.edu/databases/synthetic_control/synthetic_control.data.html\n",
    "\n",
    "We could potentially use this data to pretrain an algorithm?\n",
    "https://www.andreaperlato.com/tspost/time-series-classification/"
   ]
  },
  {
   "cell_type": "code",
   "execution_count": null,
   "id": "f1da5850-6fcc-49ed-b093-69aced3fdcfd",
   "metadata": {},
   "outputs": [],
   "source": [
    "# create a new column with the timestep number to make it easier to work with instead of dates\n",
    "pd.to_datetime(gm_csv_t_dates.index)\n",
    "df = gm_csv_t_dates.copy()\n",
    "df['timeseries_step'] = np.arange(0, len(gm_csv_t_dates))\n",
    "first_column = df.pop('timeseries_step')\n",
    "df.insert(0, 'timeseries_step', first_column)"
   ]
  },
  {
   "cell_type": "markdown",
   "id": "0d28dc8b-70f1-4d74-afef-38890f712543",
   "metadata": {},
   "source": [
    "Can we just do a simple linear regression on the data??"
   ]
  },
  {
   "cell_type": "code",
   "execution_count": null,
   "id": "7a19a2c8-f444-4de6-8b1b-2d7c461b1bcd",
   "metadata": {},
   "outputs": [],
   "source": [
    "all_y_reg = []\n",
    "for i in range(1,len(df.columns)):\n",
    "    X = df.loc[:, ['timeseries_step']]  # features\n",
    "    y = df.iloc[:, i]  # target\n",
    "    x = X.values.squeeze()\n",
    "    x = x.astype(float)\n",
    "    y = y.values.astype(float)\n",
    "    res = stats.linregress(x, y)\n",
    "    all_y_reg.append(res)\n"
   ]
  },
  {
   "cell_type": "code",
   "execution_count": null,
   "id": "7dc46282-3599-4415-bd69-daf4e28f0eb4",
   "metadata": {},
   "outputs": [],
   "source": [
    "# note that the order follows that of the dataframe columns\n",
    "all_rvalue = []\n",
    "all_slope_values = []\n",
    "all_intercept_values = []\n",
    "all_pvalue = []\n",
    "all_stderr = []\n",
    "all_intercept_stderr = []\n",
    "\n",
    "for i in range(len(all_y_reg)):\n",
    "    all_rvalue.append(all_y_reg[i].rvalue)\n",
    "    all_slope_values.append(all_y_reg[i].slope)\n",
    "    all_intercept_values.append(all_y_reg[i].intercept)\n",
    "    all_pvalue.append(all_y_reg[i].pvalue)\n",
    "    all_stderr.append(all_y_reg[i].stderr)\n",
    "    all_intercept_stderr.append(all_y_reg[i].intercept_stderr)\n",
    "\n",
    "    "
   ]
  },
  {
   "cell_type": "code",
   "execution_count": null,
   "id": "1fe25437-6b62-458e-9c3c-63956c0ca84d",
   "metadata": {},
   "outputs": [],
   "source": [
    "# create a pandas dataframe with the r values and the same column names (point IDs) as the original dataframe\n",
    "df_all_rvalue = pd.DataFrame(all_rvalue)\n",
    "df_all_rvalue.index = gm_csv_t_dates.columns\n",
    "df_all_rvalue['slope'] = all_slope_values\n",
    "df_all_rvalue['intercept'] = all_intercept_values\n",
    "df_all_rvalue['pvalue'] = all_pvalue\n",
    "df_all_rvalue['stderr'] = all_stderr\n",
    "df_all_rvalue['intercept_stderr'] = all_intercept_stderr\n",
    "df_all_rvalue = df_all_rvalue.rename(columns={0: 'rvalue'})\n",
    "df_all_rvalue.index.name = 'pid'\n",
    "df_linreg = df_all_rvalue"
   ]
  },
  {
   "cell_type": "markdown",
   "id": "ccbc05ae-15e3-410a-b96e-0c5e04322c6c",
   "metadata": {},
   "source": [
    "### Clustering the different types of regression. \n",
    "The parameters are quite arbitraty, mostly relying on the value of the slope\n",
    "and the r value. \n",
    "It would be worth studying the sensitivity of these parameters. "
   ]
  },
  {
   "cell_type": "code",
   "execution_count": null,
   "id": "72a55ae3-5606-4b95-9bc8-9ed098f89e2b",
   "metadata": {},
   "outputs": [],
   "source": [
    "linear_ascending = []\n",
    "linear_descending = []\n",
    "linear_constant = []\n",
    "irregular = []\n",
    "\n",
    "for i in range(len(df_linreg)):\n",
    "    if df_linreg.rvalue.iloc[i]>0.9:\n",
    "        linear_ascending.append(df_linreg.index[i])\n",
    "    elif df_linreg.rvalue.iloc[i]<-0.9:\n",
    "        linear_descending.append(df_linreg.index[i])\n",
    "    elif (df_linreg.rvalue.iloc[i]<0.025 and df_linreg.rvalue.iloc[i]>-0.025) and (-0.01<df_linreg.slope.iloc[i]<0.01):\n",
    "        linear_constant.append(df_linreg.index[i])\n",
    "    else:\n",
    "        irregular.append(df_linreg.index[i])"
   ]
  },
  {
   "cell_type": "code",
   "execution_count": null,
   "id": "2ff119be-25ee-4008-88f1-c300944b5042",
   "metadata": {},
   "outputs": [],
   "source": [
    "print(f'ascending: {len(linear_ascending)}, descending: {len(linear_descending)},\\\n",
    "constant: {len(linear_constant)}, irregular:{len(irregular)}')"
   ]
  },
  {
   "cell_type": "code",
   "execution_count": null,
   "id": "42c2aec4-0dd3-41c4-ba34-c19621260c21",
   "metadata": {},
   "outputs": [],
   "source": [
    "### WIDGET \n",
    "plt.rcParams['figure.figsize'] = [7,4]\n",
    "\n",
    "column_name = gm_csv_t_dates.columns\n",
    "\n",
    "def plot_data(column_number):\n",
    "    plt.plot(gm_csv_t_dates.iloc[:,column_number].values)\n",
    "    y_regression = df_all_rvalue.slope[column_number]*x + df_all_rvalue.intercept[column_number]\n",
    "    plt.plot(y_regression)\n",
    "    \n",
    "interact(plot_data, column_number=(0,len(column_name)-1,1))"
   ]
  },
  {
   "cell_type": "code",
   "execution_count": null,
   "id": "1a701495-9c92-441f-ac67-70ef49b6e181",
   "metadata": {},
   "outputs": [],
   "source": [
    "plt.plot(gm_csv_t_dates[irregular[0]].values, label='ground motion data')\n",
    "y_regression = df_all_rvalue.slope.loc[irregular[0]]*x + df_all_rvalue.intercept.loc[irregular[0]]\n",
    "plt.plot(y_regression, label='regression')\n",
    "plt.legend()\n",
    "plt.xlabel('Number of days')\n",
    "plt.ylabel('Displacement (mm)')\n",
    "#plt.savefig('./figures/irregular_ground_motion_regression.png')"
   ]
  },
  {
   "cell_type": "markdown",
   "id": "e0e6f23e-3ac7-4219-b3bd-9d9d06565ac1",
   "metadata": {},
   "source": [
    "#### Widgets to show the 4 different classes and the regression line "
   ]
  },
  {
   "cell_type": "code",
   "execution_count": null,
   "id": "85bc8571-2cc5-45f7-a35a-7391336fec40",
   "metadata": {},
   "outputs": [],
   "source": [
    "### WIDGET - ASCENDING\n",
    "plt.rcParams['figure.figsize'] = [7,4]\n",
    "\n",
    "column_name = gm_csv_t_dates.columns\n",
    "\n",
    "def plot_data(column_number):\n",
    "    plt.plot(gm_csv_t_dates[linear_ascending[column_number]].values)\n",
    "    y_regression = df_all_rvalue.slope.loc[linear_ascending[column_number]]*x + df_all_rvalue.intercept.loc[linear_ascending[column_number]]\n",
    "    plt.plot(y_regression)\n",
    "    plt.xlabel('Time (days)')\n",
    "    plt.ylabel('Ground motion (mm)')\n",
    "    plt.title('Linear Ascending')\n",
    "    \n",
    "interact(plot_data, column_number=(0,len(linear_ascending)-1,1))"
   ]
  },
  {
   "cell_type": "code",
   "execution_count": null,
   "id": "da6868a8-1145-443c-a716-99375a6a7d07",
   "metadata": {},
   "outputs": [],
   "source": [
    "### WIDGET - ASCENDING\n",
    "plt.rcParams['figure.figsize'] = [7,4]\n",
    "\n",
    "column_name = gm_csv_t_dates.columns\n",
    "\n",
    "def plot_data(column_number):\n",
    "    plt.plot(gm_csv_t_dates[linear_descending[column_number]].values)\n",
    "    y_regression = df_all_rvalue.slope.loc[linear_descending[column_number]]*x + df_all_rvalue.intercept.loc[linear_descending[column_number]]\n",
    "    plt.plot(y_regression)\n",
    "    plt.xlabel('Time (days)')\n",
    "    plt.ylabel('Ground motion (mm)')\n",
    "    plt.title('Linear Descending')\n",
    "    \n",
    "interact(plot_data, column_number=(0,len(linear_descending)-1,1))"
   ]
  },
  {
   "cell_type": "code",
   "execution_count": null,
   "id": "adf76fc8-3808-486e-be2c-7b39552b90ce",
   "metadata": {},
   "outputs": [],
   "source": [
    "### WIDGET - ASCENDING\n",
    "plt.rcParams['figure.figsize'] = [7,4]\n",
    "\n",
    "column_name = gm_csv_t_dates.columns\n",
    "\n",
    "def plot_data(column_number):\n",
    "    plt.plot(gm_csv_t_dates[linear_constant[column_number]].values)\n",
    "    y_regression = df_all_rvalue.slope.loc[linear_constant[column_number]]*x + df_all_rvalue.intercept.loc[linear_constant[column_number]]\n",
    "    plt.plot(y_regression)\n",
    "    plt.xlabel('Time (days)')\n",
    "    plt.ylabel('Ground motion (mm)')\n",
    "    plt.title('Linear Constant')\n",
    "    \n",
    "interact(plot_data, column_number=(0,len(linear_constant)-1,1))"
   ]
  },
  {
   "cell_type": "code",
   "execution_count": null,
   "id": "96d53c99-ab09-4c97-83d1-70c8f5712728",
   "metadata": {},
   "outputs": [],
   "source": [
    "### WIDGET - ASCENDING\n",
    "plt.rcParams['figure.figsize'] = [7,4]\n",
    "\n",
    "column_name = gm_csv_t_dates.columns\n",
    "\n",
    "def plot_data(column_number):\n",
    "    plt.plot(gm_csv_t_dates[irregular[column_number]].values)\n",
    "    y_regression = df_all_rvalue.slope.loc[irregular[column_number]]*x + df_all_rvalue.intercept.loc[irregular[column_number]]\n",
    "    plt.plot(y_regression)\n",
    "    plt.xlabel('Time (days)')\n",
    "    plt.ylabel('Ground motion (mm)')\n",
    "    plt.title('Irregular')\n",
    "    \n",
    "interact(plot_data, column_number=(0,len(irregular)-1,1))"
   ]
  },
  {
   "cell_type": "code",
   "execution_count": null,
   "id": "d82356df-26e4-492e-ae93-2102eba52afe",
   "metadata": {},
   "outputs": [],
   "source": [
    "reshaped_column = np.array(gm_csv_t_dates[irregular[1645]])\n",
    "reshaped_column = reshaped_column.astype('int')"
   ]
  },
  {
   "cell_type": "markdown",
   "id": "de5afc97-09ba-4936-8af0-28ed04c9b268",
   "metadata": {},
   "source": [
    "#### Change Point detection \n",
    "\n",
    "Detect where the behaviour changes in the data (I am only applying it to \n",
    "irregular data, which ic the one that in principle should have changes in \n",
    "behaviour.)\n",
    "\n",
    "Since the regression discrimination hasn't been optimised, it is possible that \n",
    "some of the irregular timeseriesare closer to an ascending or descending series \n",
    "than to one with changes of behaviour."
   ]
  },
  {
   "cell_type": "markdown",
   "id": "3e874c0c-93bf-4160-8920-0845c05c6da1",
   "metadata": {},
   "source": [
    "I will be using the ruptures package. This has a few algorithms for change detection\n",
    "but I haven't explored them in great detail. The window method seems to work well for our data. "
   ]
  },
  {
   "cell_type": "code",
   "execution_count": null,
   "id": "9fa74321-3e3a-4537-8cb8-d997138b27d3",
   "metadata": {},
   "outputs": [],
   "source": [
    "import ruptures as rpt\n",
    "# RUPTURES PACKAGE\n",
    "# Changepoint detection with the Pelt search method\n",
    "\n",
    "points = reshaped_column\n",
    "\n",
    "model=\"rbf\"\n",
    "algo = rpt.Pelt(model=model).fit(points)\n",
    "result = algo.predict(pen=10)\n",
    "rpt.display(points, result, figsize=(10, 6))\n",
    "plt.title('Change Point Detection: Pelt Search Method')\n",
    "plt.xlabel('Number of days')\n",
    "plt.ylabel('Displacement (mm)')\n",
    "#plt.show()  \n",
    "plt.savefig('./figures/change_point_pelt.png')\n",
    "plt.clf()\n",
    "\n",
    "#Changepoint detection with the Binary Segmentation search method\n",
    "model = \"l2\"  \n",
    "algo = rpt.Binseg(model=model).fit(points)\n",
    "my_bkps = algo.predict(n_bkps=10)\n",
    "# show results\n",
    "rpt.show.display(points, my_bkps, figsize=(10, 6))\n",
    "plt.title('Change Point Detection: Binary Segmentation Search Method')\n",
    "plt.xlabel('Number of days')\n",
    "plt.ylabel('Displacement (mm)')\n",
    "#plt.show()\n",
    "plt.savefig('./figures/change_point_binary_segmentation.png')\n",
    "plt.clf()\n",
    "    \n",
    "    \n",
    "#Changepoint detection with window-based search method\n",
    "model = \"l2\"  \n",
    "algo = rpt.Window(width=50, model=model).fit(points)\n",
    "my_bkps = algo.predict(n_bkps=10)\n",
    "rpt.show.display(points, my_bkps, figsize=(10, 6))\n",
    "plt.title('Change Point Detection: Window-Based Search Method')\n",
    "plt.xlabel('Number of days')\n",
    "plt.ylabel('Displacement (mm)')\n",
    "#plt.show()\n",
    "plt.savefig('./figures/change_point_window.png')\n",
    "plt.clf()\n",
    "\n",
    "\n",
    "#Changepoint detection with dynamic programming search method\n",
    "model = \"l1\"  \n",
    "algo = rpt.Dynp(model=model, min_size=3, jump=5).fit(points)\n",
    "my_bkps = algo.predict(n_bkps=10)\n",
    "rpt.show.display(points, my_bkps, figsize=(10, 6))\n",
    "plt.title('Change Point Detection: Dynamic Programming Search Method')\n",
    "plt.xlabel('Number of days')\n",
    "plt.ylabel('Displacement (mm)')\n",
    "#plt.show()\n",
    "plt.savefig('./figures/change_point_dynamic_programming.png')\n",
    "plt.clf()\n"
   ]
  },
  {
   "cell_type": "markdown",
   "id": "d20279ca-eb5f-478a-b50e-d46060f7aa17",
   "metadata": {},
   "source": [
    "## Fourier Analysis\n",
    "We want to find seasonlity - if any - in the data. \n",
    "This will require morein depth analysis - we are going to assume that the time series is regularly space - which it isn't - but just for the sake of a quick analysis. \n",
    "\n",
    "We want to get the frequency distribution of the timeseries. \n"
   ]
  },
  {
   "cell_type": "markdown",
   "id": "ed1d1169-b652-4048-8783-8ef4304559e0",
   "metadata": {},
   "source": [
    "From here: https://towardsdatascience.com/fourier-transform-for-time-series-292eb887b101"
   ]
  },
  {
   "cell_type": "code",
   "execution_count": null,
   "id": "1228f11b-7ba1-4494-acc4-a21c347b838b",
   "metadata": {},
   "outputs": [],
   "source": [
    "#y = gm_csv_t_dates[linear_constant[376]]\n",
    "y = gm_csv_t_dates.iloc[:,451]\n",
    "x = np.arange(0,len(gm_csv_t_dates))"
   ]
  },
  {
   "cell_type": "code",
   "execution_count": null,
   "id": "b7a90d75-cc14-45c7-8cb1-33a43b7dc9c0",
   "metadata": {},
   "outputs": [],
   "source": [
    "plt.plot(x,y)\n",
    "plt.xlabel('Number of days')\n",
    "plt.ylabel('Displacement (mm)')\n",
    "plt.savefig('./figures/time_series_for_fourier.png')\n"
   ]
  },
  {
   "cell_type": "code",
   "execution_count": null,
   "id": "20d9a71f-3afe-49df-b6e0-66a8ddeb4be6",
   "metadata": {},
   "outputs": [],
   "source": [
    "# apply fast fourier transform and take absolute values\n",
    "\n",
    "f=abs(np.fft.fft(y))\n",
    "\n",
    "# get the list of frequencies\n",
    "num=np.size(x)\n",
    "freq = [i / num for i in list(range(num))]\n",
    "\n",
    "# get the list of spectrums\n",
    "spectrum=f.real*f.real+f.imag*f.imag\n",
    "nspectrum=spectrum/spectrum[0]\n",
    "\n",
    "# plot nspectrum per frequency, with a semilog scale on nspectrum\n",
    "plt.semilogy(freq,nspectrum)\n",
    "plt.xlabel('Frequency (1/days)')\n",
    "plt.savefig('./figures/fourier_frequencies.png')\n",
    "\n",
    "#plt.ylabel('Frequency strength')"
   ]
  },
  {
   "cell_type": "code",
   "execution_count": null,
   "id": "fade1fd3-ab80-45ab-9c6f-a49896b1e127",
   "metadata": {},
   "outputs": [],
   "source": [
    "# improve the plot by adding periods in number of days (assuming regular intervals) rather than  frequency\n",
    "results = pd.DataFrame({'freq': freq, 'nspectrum': nspectrum})\n",
    "results['period'] = results['freq'] / (1/len(gm_csv_t_dates))\n",
    "plt.semilogy(results['period'], results['nspectrum'])"
   ]
  },
  {
   "cell_type": "markdown",
   "id": "822dc6e5-b2fc-4383-84be-8f2b24319caf",
   "metadata": {},
   "source": [
    "### Plotting the data at the actual time intervals\n",
    "\n",
    "Here it is easier to see where the gaps in the data are and also the spread within the same measument season. "
   ]
  },
  {
   "cell_type": "code",
   "execution_count": null,
   "id": "b6f062b8-996c-46ab-be27-fe7602684801",
   "metadata": {},
   "outputs": [],
   "source": [
    "import datetime\n",
    "dates = pd.to_datetime(gm_csv_t_dates.index)"
   ]
  },
  {
   "cell_type": "code",
   "execution_count": null,
   "id": "fa0b9fa0-d54d-497a-8546-37a136217bab",
   "metadata": {},
   "outputs": [],
   "source": [
    "all_delta = []\n",
    "for i in range(len(dates)-1):\n",
    "    d0 = dates[i]\n",
    "    d1 = dates[i+1]\n",
    "    delta = d1 - d0\n",
    "    all_delta.append(delta)\n"
   ]
  },
  {
   "cell_type": "code",
   "execution_count": null,
   "id": "5061fd1b-908d-4ce8-9322-1c1d6bc6e26b",
   "metadata": {},
   "outputs": [],
   "source": [
    "# fig = plt.gcf()\n",
    "# fig.set_size_inches(18.5, 10.5)\n",
    "# plt.plot(gm_csv_t_dates.iloc[:20,534],'.-')\n",
    "\n",
    "\n",
    "import matplotlib.pyplot as plt\n",
    "import numpy as np\n",
    "import datetime\n",
    "from matplotlib import dates as mdates\n",
    "\n",
    "# Using Data from OP: tp_pass and azip_pass\n",
    "\n",
    "# Creating your plot\n",
    "\n",
    "fig, ax=plt.subplots(1, 1, figsize=(15, 7))\n",
    "plt.ylabel('Displacement (mm)')\n",
    "#ax.set_ylim(-185, 185)\n",
    "ax.scatter(dates, gm_csv_t_dates.iloc[:,534], color=\"b\", alpha=1.0, ec=\"k\")\n",
    "\n",
    "# Minor ticks every month.\n",
    "fmt_month = mdates.MonthLocator()\n",
    "# Minor ticks every year.\n",
    "fmt_year = mdates.YearLocator()\n",
    "\n",
    "ax.xaxis.set_minor_locator(fmt_month)\n",
    "# '%b' to get the names of the month\n",
    "ax.xaxis.set_minor_formatter(mdates.DateFormatter('%m'))\n",
    "ax.xaxis.set_major_locator(fmt_year)\n",
    "ax.xaxis.set_major_formatter(mdates.DateFormatter('%m'))\n",
    "\n",
    "# fontsize for month labels\n",
    "ax.tick_params(labelsize=8, which='both')\n",
    "# create a second x-axis beneath the first x-axis to show the year in YYYY format\n",
    "sec_xaxis = ax.secondary_xaxis(-0.1)\n",
    "sec_xaxis.xaxis.set_major_locator(fmt_year)\n",
    "sec_xaxis.xaxis.set_major_formatter(mdates.DateFormatter('%Y'))\n",
    "\n",
    "# Hide the second x-axis spines and ticks\n",
    "sec_xaxis.spines['bottom'].set_visible(False)\n",
    "sec_xaxis.tick_params(length=0, labelsize=10)\n",
    "\n",
    "\n",
    "#plt.yticks([-180, -120, -60, 0, 60, 120, 180], [\"${}^\\circ$\".format(x) for x in [-180, -120, -60, 0, 60, 120, 180]], fontsize=35)\n",
    "plt.tight_layout()\n",
    "#plt.show()\n",
    "plt.savefig('./figures/timeseries_points_real_timeline_axis.png')"
   ]
  },
  {
   "cell_type": "code",
   "execution_count": null,
   "id": "468f9308-ab2c-4a81-a140-0cee16c4d894",
   "metadata": {},
   "outputs": [],
   "source": []
  }
 ],
 "metadata": {
  "kernelspec": {
   "display_name": "Python 3 (ipykernel)",
   "language": "python",
   "name": "python3"
  },
  "language_info": {
   "codemirror_mode": {
    "name": "ipython",
    "version": 3
   },
   "file_extension": ".py",
   "mimetype": "text/x-python",
   "name": "python",
   "nbconvert_exporter": "python",
   "pygments_lexer": "ipython3",
   "version": "3.10.2"
  }
 },
 "nbformat": 4,
 "nbformat_minor": 5
}
