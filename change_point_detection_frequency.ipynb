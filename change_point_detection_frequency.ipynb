{
 "cells": [
  {
   "cell_type": "markdown",
   "id": "d5c865dd-0ccd-441e-8bc9-dcd6320fc9b7",
   "metadata": {},
   "source": [
    "# Analysis of change point occurence\n",
    "\n",
    "Given the detection of change points for the timeseries, when do most happen? Can we see any patterns?"
   ]
  },
  {
   "cell_type": "code",
   "execution_count": null,
   "id": "46f483db-8a24-4331-a1a9-ea0228c107b4",
   "metadata": {},
   "outputs": [],
   "source": [
    "import ruptures as rpt\n",
    "import numpy as np\n",
    "import pandas as pd\n",
    "import geopandas as gpd\n",
    "import matplotlib.pyplot as plt"
   ]
  },
  {
   "cell_type": "code",
   "execution_count": null,
   "id": "d9291f7d-54bc-478e-82b3-859cdc2d2acc",
   "metadata": {},
   "outputs": [],
   "source": [
    "gm_csv = pd.read_csv('timeseries_data.csv')\n",
    "gm_csv.rename(columns={gm_csv.columns[0]: \"date\" }, inplace = True)\n",
    "gm_csv.set_index('date', inplace=True)"
   ]
  },
  {
   "cell_type": "code",
   "execution_count": null,
   "id": "e7e4f3b5-27a2-4256-a7d8-ad26482d6ee7",
   "metadata": {},
   "outputs": [],
   "source": [
    "gm_csv.head(1)"
   ]
  },
  {
   "cell_type": "code",
   "execution_count": null,
   "id": "626e5f91-955b-4381-af12-391796a860ed",
   "metadata": {},
   "outputs": [],
   "source": [
    "reg_csv = pd.read_csv('regression_values.csv')"
   ]
  },
  {
   "cell_type": "code",
   "execution_count": null,
   "id": "997c70e2-6cfd-4831-8419-ddfb20309b7c",
   "metadata": {},
   "outputs": [],
   "source": [
    "reg_csv.set_index('pid', inplace=True)"
   ]
  },
  {
   "cell_type": "code",
   "execution_count": null,
   "id": "d71b4ed2-2460-4696-9220-8a6a41e9e71f",
   "metadata": {},
   "outputs": [],
   "source": [
    "#select indices of the irreguar columns\n",
    "irregular_columns = reg_csv.index[reg_csv['reg_type']=='irregular'].tolist()\n"
   ]
  },
  {
   "cell_type": "code",
   "execution_count": null,
   "id": "f09a82f6-e9f5-495c-945a-8da4207b10d4",
   "metadata": {},
   "outputs": [],
   "source": [
    "reg_csv_irregular = reg_csv.loc[irregular_columns]"
   ]
  },
  {
   "cell_type": "code",
   "execution_count": null,
   "id": "9fe58bd6-1da5-4bb2-b3f8-81a20898d198",
   "metadata": {},
   "outputs": [],
   "source": [
    "col_name = str(irregular_columns[0])"
   ]
  },
  {
   "cell_type": "code",
   "execution_count": null,
   "id": "b46b132c-7059-434d-b3b7-273cd292d886",
   "metadata": {},
   "outputs": [],
   "source": [
    "points = np.array(gm_csv[col_name])"
   ]
  },
  {
   "cell_type": "code",
   "execution_count": null,
   "id": "74238e3c-6c86-450e-b16d-53fb4562fc92",
   "metadata": {},
   "outputs": [],
   "source": [
    "len(irregular_columns)"
   ]
  },
  {
   "cell_type": "code",
   "execution_count": null,
   "id": "6285f5b4-4b93-4759-8518-486b78966af2",
   "metadata": {},
   "outputs": [],
   "source": [
    "#RUPTURES PACKAGE\n",
    "#Changepoint detection with window-based search method\n",
    "all_ruptures = []\n",
    "model = \"l2\"  \n",
    "for i in range(len(irregular_columns)):\n",
    "    col_name = str(irregular_columns[i])\n",
    "    points = np.array(gm_csv[col_name])\n",
    "    algo = rpt.Window(width=40, model=model).fit(points)\n",
    "    my_bkps = algo.predict(n_bkps=10)\n",
    "    all_ruptures.append(my_bkps)\n"
   ]
  },
  {
   "cell_type": "code",
   "execution_count": null,
   "id": "59551c8b-37fa-4b61-a3d1-45537c85c937",
   "metadata": {},
   "outputs": [],
   "source": [
    "# add the ruptures to the dataframe\n",
    "\n",
    "gm_csv.head(5)"
   ]
  },
  {
   "cell_type": "code",
   "execution_count": null,
   "id": "8033462b-24e9-48fa-a0a3-1876b1471f6a",
   "metadata": {},
   "outputs": [],
   "source": [
    "# select only the data from irregular timeseries and plot a histogram of where\n",
    "# the change points happen"
   ]
  },
  {
   "cell_type": "code",
   "execution_count": null,
   "id": "e4d8526f-550f-4c19-afbc-1d24c8f2413a",
   "metadata": {},
   "outputs": [],
   "source": [
    "irr_df = reg_csv[reg_csv['reg_type']=='irregular']"
   ]
  },
  {
   "cell_type": "code",
   "execution_count": null,
   "id": "e899c308-717a-405e-b495-9fe1b9fbbe12",
   "metadata": {},
   "outputs": [],
   "source": [
    "irr_df['change_pts'] = all_ruptures"
   ]
  },
  {
   "cell_type": "code",
   "execution_count": null,
   "id": "4a43364c-e693-492d-b78b-f5d6fdab5c58",
   "metadata": {},
   "outputs": [],
   "source": [
    "irr_df.to_csv('regression_with_change_points_irregular_only.csv')"
   ]
  },
  {
   "cell_type": "code",
   "execution_count": null,
   "id": "eb18e56c-8db2-4f73-ac4b-fa4bb97fd32d",
   "metadata": {},
   "outputs": [],
   "source": [
    "start_rupt = all_ruptures[:][:][0]"
   ]
  },
  {
   "cell_type": "code",
   "execution_count": null,
   "id": "3a7885b0-ac22-4023-a856-06d94f252053",
   "metadata": {},
   "outputs": [],
   "source": [
    "# select only the first change point\n",
    "lst2 = [item[0] for item in all_ruptures]"
   ]
  },
  {
   "cell_type": "code",
   "execution_count": null,
   "id": "58f51627-992b-4e01-9c41-8b7d334dc11a",
   "metadata": {},
   "outputs": [],
   "source": [
    "plt.hist(lst2, bins =30)"
   ]
  },
  {
   "cell_type": "code",
   "execution_count": null,
   "id": "aa72883e-3472-4953-bf92-88e1c6bbf743",
   "metadata": {},
   "outputs": [],
   "source": []
  }
 ],
 "metadata": {
  "kernelspec": {
   "display_name": "Python 3 (ipykernel)",
   "language": "python",
   "name": "python3"
  },
  "language_info": {
   "codemirror_mode": {
    "name": "ipython",
    "version": 3
   },
   "file_extension": ".py",
   "mimetype": "text/x-python",
   "name": "python",
   "nbconvert_exporter": "python",
   "pygments_lexer": "ipython3",
   "version": "3.10.2"
  }
 },
 "nbformat": 4,
 "nbformat_minor": 5
}
