{
 "cells": [
  {
   "cell_type": "markdown",
   "id": "f69d8342-9cea-490a-b33f-260118a46423",
   "metadata": {},
   "source": [
    "# Correlation analysis\n",
    "\n",
    "Looking at the different types of ground motion and finding some relation\n",
    "between the other characteristics of the points which are not ground motion."
   ]
  },
  {
   "cell_type": "code",
   "execution_count": null,
   "id": "358b92fb-2699-47db-b7d6-dd1014e36c01",
   "metadata": {},
   "outputs": [],
   "source": [
    "import numpy as np\n",
    "import pandas as pd\n",
    "import geopandas as gpd\n",
    "import matplotlib.pyplot as plt\n",
    "import seaborn as sns"
   ]
  },
  {
   "cell_type": "code",
   "execution_count": null,
   "id": "2624d1a7-8c2d-425b-9527-1fe649e56df8",
   "metadata": {},
   "outputs": [],
   "source": [
    "# load the data \n",
    "regression = pd.read_csv('./regression_values.csv')"
   ]
  },
  {
   "cell_type": "code",
   "execution_count": null,
   "id": "abbaa598-2daf-4c09-aeb3-2afbe8cd61b6",
   "metadata": {},
   "outputs": [],
   "source": [
    "# load timeseries data without the ground motion info\n",
    "# now we are only interested in the other parameters. \n",
    "\n",
    "gm_csv = pd.read_csv('./tmp/160-IW1-414-s1-asc1-v2020.csv')"
   ]
  },
  {
   "cell_type": "code",
   "execution_count": null,
   "id": "97cec0eb-d7a3-4067-b21f-c37ae913939f",
   "metadata": {},
   "outputs": [],
   "source": [
    "#remove all rows which are not dates - first date is on entry #21\n",
    "gm_csv.rename(columns=lambda x: x.strip(), inplace=True)\n",
    "gm_csv_t = gm_csv.T\n",
    "gm_csv_t.rename(columns=gm_csv_t.iloc[0], inplace=True)\n",
    "gm_csv_t_dates= gm_csv_t.iloc[1:21 , :]"
   ]
  },
  {
   "cell_type": "code",
   "execution_count": null,
   "id": "fcbbf122-2929-4d76-a7c8-c892e1f18330",
   "metadata": {},
   "outputs": [],
   "source": [
    "parameters = gm_csv_t_dates"
   ]
  },
  {
   "cell_type": "code",
   "execution_count": null,
   "id": "54185b61-e619-40e0-a41b-0233d841b7be",
   "metadata": {},
   "outputs": [],
   "source": [
    "parameters.index"
   ]
  },
  {
   "cell_type": "code",
   "execution_count": null,
   "id": "8625563a-d437-472d-ab56-68736ec84464",
   "metadata": {},
   "outputs": [],
   "source": [
    "parameters = parameters.drop(['track', 'mode', 'burst', 'line', 'pixel', 'height_wgs84', 'pixel.1', 'line.1'])"
   ]
  },
  {
   "cell_type": "code",
   "execution_count": null,
   "id": "9d38ddff-f505-4734-b284-c680640a9172",
   "metadata": {},
   "outputs": [],
   "source": [
    "parameters"
   ]
  },
  {
   "cell_type": "code",
   "execution_count": null,
   "id": "904ef696-6e94-428f-b836-68a3a863bfeb",
   "metadata": {},
   "outputs": [],
   "source": [
    "# add a column with the classification type for each point\n",
    "regression.set_index('pid', inplace=True)"
   ]
  },
  {
   "cell_type": "code",
   "execution_count": null,
   "id": "c9937578-2ef6-4767-8c9c-fc7cf24e7974",
   "metadata": {},
   "outputs": [],
   "source": [
    "regression = regression.T"
   ]
  },
  {
   "cell_type": "code",
   "execution_count": null,
   "id": "fa61ba3f-765a-47e3-8925-081d97b48619",
   "metadata": {},
   "outputs": [],
   "source": [
    "regression.tail(3)"
   ]
  },
  {
   "cell_type": "code",
   "execution_count": null,
   "id": "e403606c-5fec-43f7-a7ee-1ea5a6d872dc",
   "metadata": {},
   "outputs": [],
   "source": [
    "# add the column \n",
    "parameters = parameters.append(regression.loc['reg_type'])"
   ]
  },
  {
   "cell_type": "code",
   "execution_count": null,
   "id": "b374b65d-1b87-4473-9207-9c332adb9730",
   "metadata": {},
   "outputs": [],
   "source": [
    "# now onto the classification and the importance of features \n",
    "\n",
    "# transpose the dataframe again \n",
    "\n",
    "parameters = parameters.T"
   ]
  },
  {
   "cell_type": "code",
   "execution_count": null,
   "id": "c95b261f-d06a-44e8-94ba-e03f7a6c12ce",
   "metadata": {},
   "outputs": [],
   "source": [
    "column_names = list(parameters) "
   ]
  },
  {
   "cell_type": "code",
   "execution_count": null,
   "id": "29d1dd0a-4b14-4cdd-ba94-e6c217dc0661",
   "metadata": {},
   "outputs": [],
   "source": [
    "labels = parameters['reg_type']"
   ]
  },
  {
   "cell_type": "code",
   "execution_count": null,
   "id": "48753a71-142c-4973-b450-20948d5945b3",
   "metadata": {},
   "outputs": [],
   "source": [
    "parameters['reg_type'].value_counts()"
   ]
  },
  {
   "cell_type": "code",
   "execution_count": null,
   "id": "6fb9e033-530c-4f17-82a0-df06f3dbf430",
   "metadata": {},
   "outputs": [],
   "source": [
    "parameters_no_labels = parameters.drop(['reg_type'], axis =1)"
   ]
  },
  {
   "cell_type": "code",
   "execution_count": null,
   "id": "fe155842-a551-4afd-bdd2-d93e6b1de04e",
   "metadata": {},
   "outputs": [],
   "source": [
    "parameters_no_labels = pd.DataFrame(parameters_no_labels)"
   ]
  },
  {
   "cell_type": "code",
   "execution_count": null,
   "id": "0fc5f810-311c-4437-8bb1-82dd825462be",
   "metadata": {},
   "outputs": [],
   "source": [
    "parameters_no_labels = parameters_no_labels.astype('float64')"
   ]
  },
  {
   "cell_type": "code",
   "execution_count": null,
   "id": "7defbd4c-b5b5-48d9-af7e-b02cadee6b41",
   "metadata": {},
   "outputs": [],
   "source": [
    "correlation = parameters_no_labels.corr(method ='pearson', min_periods=1)\n"
   ]
  },
  {
   "cell_type": "code",
   "execution_count": null,
   "id": "51e476a1-15aa-4c58-8883-759719206640",
   "metadata": {},
   "outputs": [],
   "source": [
    "correlation_array = correlation.to_numpy()"
   ]
  },
  {
   "cell_type": "code",
   "execution_count": null,
   "id": "42387acc-e263-41ca-8934-1d0f05d88363",
   "metadata": {},
   "outputs": [],
   "source": [
    "plt.imshow(correlation_array)"
   ]
  },
  {
   "cell_type": "code",
   "execution_count": null,
   "id": "4a8e9764-440e-471a-a3e1-d46444114c1c",
   "metadata": {},
   "outputs": [],
   "source": [
    "from scipy import stats\n",
    "cormat = parameters_no_labels.corr()"
   ]
  },
  {
   "cell_type": "code",
   "execution_count": null,
   "id": "e017e3e3-7a3a-4aa6-b9f4-4808ac8b0574",
   "metadata": {},
   "outputs": [],
   "source": [
    "import seaborn as sns\n",
    "fig, ax = plt.subplots(figsize=(10,10))         # Sample figsize in inches\n",
    "\n",
    "#plt.imshow(cormat,ax=ax)\n",
    "sns.heatmap(cormat,ax=ax)"
   ]
  },
  {
   "cell_type": "markdown",
   "id": "d40eed42-b2de-4a6c-bd72-05a25e84b666",
   "metadata": {},
   "source": [
    "but is correlation what I really want? \n",
    "Given a set of attributes I want to check if we can classify the data? \n",
    "I want to check for the correlation between the label and the other variables for each label group"
   ]
  },
  {
   "cell_type": "markdown",
   "id": "4feacaa7-85cb-47a6-8b20-327c4383896e",
   "metadata": {},
   "source": [
    "Get the statistics separately for each of the label groups \n",
    "create 3 datasets and do PCA and correlation for each of the:\n",
    "\n",
    "* ascending\n",
    "\n",
    "* descending\n",
    "\n",
    "* constant\n",
    "\n",
    "* irregular"
   ]
  },
  {
   "cell_type": "code",
   "execution_count": null,
   "id": "5f456202-60a5-416b-84fc-78d1593c3b1f",
   "metadata": {},
   "outputs": [],
   "source": [
    "parameters.head(4)"
   ]
  },
  {
   "cell_type": "code",
   "execution_count": null,
   "id": "945d64e5-1f8a-453f-b20f-170e589bf434",
   "metadata": {},
   "outputs": [],
   "source": [
    "grouped_parameters = parameters.groupby('reg_type')"
   ]
  },
  {
   "cell_type": "code",
   "execution_count": null,
   "id": "1714ce37-f340-4c0a-8155-a8f788bb138e",
   "metadata": {},
   "outputs": [],
   "source": [
    "grouped_parameters"
   ]
  },
  {
   "cell_type": "code",
   "execution_count": null,
   "id": "88381bff-ff75-4836-a536-34424ba35a64",
   "metadata": {},
   "outputs": [],
   "source": [
    "for reg_type, df_reg_type in parameters.groupby('reg_type'):\n",
    "    print(len(df_reg_type))"
   ]
  },
  {
   "cell_type": "code",
   "execution_count": null,
   "id": "b3079936-8791-45f0-8b16-13a026f8dd8e",
   "metadata": {},
   "outputs": [],
   "source": [
    "params_ascending = parameters[parameters['reg_type'] == 'ascending']\n",
    "params_descending = parameters[parameters['reg_type'] == 'descending']\n",
    "params_constant = parameters[parameters['reg_type'] == 'constant']\n",
    "params_irregular = parameters[parameters['reg_type'] == 'irregular']"
   ]
  },
  {
   "cell_type": "code",
   "execution_count": null,
   "id": "4aa73058-8f84-4d79-8388-d7e1cb430782",
   "metadata": {},
   "outputs": [],
   "source": [
    "params_ascending_no_labels = params_ascending.drop(['reg_type'], axis =1)\n",
    "params_descending_no_labels = params_descending.drop(['reg_type'], axis =1)\n",
    "params_constant_no_labels = params_constant.drop(['reg_type'], axis =1)\n",
    "params_irregular_no_labels = params_irregular.drop(['reg_type'], axis =1)\n"
   ]
  },
  {
   "cell_type": "code",
   "execution_count": null,
   "id": "47a9037d-5dd0-4911-b069-2427fcb9eb88",
   "metadata": {},
   "outputs": [],
   "source": [
    "# need to convert to float for the correlation function\n",
    "params_ascending_no_labels = params_ascending_no_labels.astype('float64')\n",
    "params_descending_no_labels = params_descending_no_labels.astype('float64')\n",
    "params_constant_no_labels = params_constant_no_labels.astype('float64')\n",
    "params_irregular_no_labels = params_irregular_no_labels.astype('float64')\n"
   ]
  },
  {
   "cell_type": "code",
   "execution_count": null,
   "id": "177c014f-a2a3-45bd-9a77-a463859191ae",
   "metadata": {},
   "outputs": [],
   "source": [
    "cormat_asc = params_ascending_no_labels.corr()\n",
    "cormat_desc = params_descending_no_labels.corr()\n",
    "cormat_const = params_constant_no_labels.corr()\n",
    "cormat_irr = params_irregular_no_labels.corr()"
   ]
  },
  {
   "cell_type": "code",
   "execution_count": null,
   "id": "b99bbe3d-b84d-4ddf-be4f-722dbe0b49f7",
   "metadata": {},
   "outputs": [],
   "source": [
    "plt.imshow(cormat_asc)\n",
    "plt.title('my random fig')"
   ]
  },
  {
   "cell_type": "code",
   "execution_count": null,
   "id": "11571721-a0ba-4413-b775-e828254a5dbf",
   "metadata": {},
   "outputs": [],
   "source": [
    "plt.figure()\n",
    "from mpl_toolkits.axes_grid1.axes_divider import make_axes_locatable\n",
    "#subplot(r,c) provide the no. of rows and columns\n",
    "f, axarr = plt.subplots(2,2) \n",
    "\n",
    "\n",
    "# use the created array to output your multiple images. In this case I have stacked 4 images vertically\n",
    "a = axarr[0][0].imshow(cormat_asc, cmap='rainbow')\n",
    "axarr[0][0].set_title('Ascending')\n",
    "divider_a = make_axes_locatable(axarr[0][0])\n",
    "cax_a = divider_a.append_axes('right', size='5%', pad=0.05)\n",
    "f.colorbar(a,cax=cax_a, orientation='vertical', cmap = 'BrBG')\n",
    "\n",
    "b=axarr[1][0].imshow(cormat_desc, cmap='rainbow')\n",
    "axarr[1][0].set_title('Descending')\n",
    "divider_b = make_axes_locatable(axarr[1][0])\n",
    "cax_b = divider_b.append_axes('right', size='5%', pad=0.05)\n",
    "f.colorbar(b,cax=cax_b, orientation='vertical')\n",
    "\n",
    "\n",
    "c=axarr[0][1].imshow(cormat_const, cmap='rainbow')\n",
    "axarr[0][1].set_title('Constant')\n",
    "divider_c = make_axes_locatable(axarr[0][1])\n",
    "cax_c = divider_c.append_axes('right', size='5%', pad=0.05)\n",
    "f.colorbar(c,cax=cax_c, orientation='vertical')\n",
    "\n",
    "\n",
    "d=axarr[1][1].imshow(cormat_irr, cmap='rainbow')\n",
    "axarr[1][1].set_title('Irregular')\n",
    "divider_d = make_axes_locatable(axarr[1][1])\n",
    "cax_d = divider_d.append_axes('right', size='5%', pad=0.05)\n",
    "f.colorbar(d,cax=cax_d, orientation='vertical')\n",
    "\n",
    "plt.tight_layout()\n",
    "plt.savefig('./figures/correlation_matrices.png')"
   ]
  },
  {
   "cell_type": "code",
   "execution_count": null,
   "id": "8806e910-8a51-4098-961a-803177bcfb72",
   "metadata": {},
   "outputs": [],
   "source": [
    "cormat_irr.columns"
   ]
  },
  {
   "cell_type": "code",
   "execution_count": null,
   "id": "369a35c2-b348-4033-bb0c-bbb44a06eaee",
   "metadata": {},
   "outputs": [],
   "source": [
    "# get the highest correlations in each of the classes\n",
    "\n",
    "for i in range(len(cormat_irr.columns)):\n",
    "    max_values = cormat_irr[cormat_irr.columns[i]].nlargest(2)\n",
    "    print(max_values.index[1])\n",
    "    print(max_values[1])"
   ]
  },
  {
   "cell_type": "markdown",
   "id": "b3fbb0a8-51da-42aa-a449-b8b73aa65ca3",
   "metadata": {},
   "source": [
    "However these attributs don't tell us much because we don't \n",
    "really have any physical info\n"
   ]
  },
  {
   "cell_type": "code",
   "execution_count": null,
   "id": "782fba0b-4d34-4335-83d7-788ec08cf6e8",
   "metadata": {},
   "outputs": [],
   "source": []
  }
 ],
 "metadata": {
  "kernelspec": {
   "display_name": "Python 3 (ipykernel)",
   "language": "python",
   "name": "python3"
  },
  "language_info": {
   "codemirror_mode": {
    "name": "ipython",
    "version": 3
   },
   "file_extension": ".py",
   "mimetype": "text/x-python",
   "name": "python",
   "nbconvert_exporter": "python",
   "pygments_lexer": "ipython3",
   "version": "3.10.2"
  }
 },
 "nbformat": 4,
 "nbformat_minor": 5
}
