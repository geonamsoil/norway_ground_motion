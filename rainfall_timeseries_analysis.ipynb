{
 "cells": [
  {
   "cell_type": "markdown",
   "id": "3cb431bb-163f-48d6-bc1b-483746e9abf0",
   "metadata": {},
   "source": [
    "# Process the GPM NASA rainfall timeseries data\n",
    "\n",
    "This has been downloaded using the package `gpm_precipitation_tools` for a time period  of monthly data between 2014 and 2020.\n",
    "The area of study is given by the shapefile `aoi_norway.shp`.\n",
    "\n",
    "See `instructions.md` for caveats of using this data. "
   ]
  },
  {
   "cell_type": "code",
   "execution_count": null,
   "id": "ee3d257f-47f3-48d9-a1e0-da89f7af4793",
   "metadata": {},
   "outputs": [],
   "source": [
    "import numpy as np\n",
    "import pandas as pd\n",
    "import geopandas as gpd\n",
    "import matplotlib.pyplot as plt\n",
    "import seaborn as sns\n",
    "import xarray as xr"
   ]
  },
  {
   "cell_type": "code",
   "execution_count": null,
   "id": "13faf09a-e29d-4e74-8ea9-86fb9fd0e9d4",
   "metadata": {},
   "outputs": [],
   "source": [
    "# load the .nc file with the rainfall timeseries - on xarray + rasterio\n",
    "dir_path = '../GPM_RAW_MONTH_2014-01-01_2020-12-31_processed/run_start_2014-01-01_end_2020-12-31/'\n",
    "file_name = \"joint_ds_with_all_times.nc\"\n",
    "rainfall = xr.open_dataset(dir_path+file_name)\n"
   ]
  },
  {
   "cell_type": "code",
   "execution_count": null,
   "id": "ed5646d3-aada-459f-97f4-d60184b13b84",
   "metadata": {},
   "outputs": [],
   "source": [
    "rainfall"
   ]
  },
  {
   "cell_type": "code",
   "execution_count": null,
   "id": "0d546069-90ce-45c4-ad0e-dfa9fdbc7eb6",
   "metadata": {},
   "outputs": [],
   "source": [
    "rainfall.precipitation[1]"
   ]
  },
  {
   "cell_type": "code",
   "execution_count": null,
   "id": "5bce9a66-3986-4006-9612-f4cf044a8817",
   "metadata": {},
   "outputs": [],
   "source": [
    "plt.imshow(rainfall.precipitation[1].squeeze())\n",
    "plt.colorbar()"
   ]
  },
  {
   "cell_type": "markdown",
   "id": "cd2f01ff-3c28-433b-b888-059b4d679238",
   "metadata": {},
   "source": [
    "Note the coarse resolution of the data!!"
   ]
  },
  {
   "cell_type": "markdown",
   "id": "5faca932-f742-4af9-b3b3-aff998d89d68",
   "metadata": {},
   "source": [
    "#### Ground motion data"
   ]
  },
  {
   "cell_type": "code",
   "execution_count": null,
   "id": "ab4553ad-2f26-41c1-bc29-425c3ba51568",
   "metadata": {},
   "outputs": [],
   "source": [
    "# load the list of langitude and longitudes from the ground motion csv \n",
    "\n",
    "gm_csv = pd.read_csv('./tmp/160-IW1-414-s1-asc1-v2020.csv')"
   ]
  },
  {
   "cell_type": "code",
   "execution_count": null,
   "id": "c8d8c169-5eb7-4b93-86a2-d1a4ceaf1656",
   "metadata": {},
   "outputs": [],
   "source": [
    "gm_csv.rename(columns=lambda x: x.strip(), inplace=True)\n"
   ]
  },
  {
   "cell_type": "code",
   "execution_count": null,
   "id": "cb51e4e1-d725-47b6-bbe3-d110a6518ef9",
   "metadata": {},
   "outputs": [],
   "source": [
    "target_lat = gm_csv['latitude']\n",
    "target_lon = gm_csv['longitude']"
   ]
  },
  {
   "cell_type": "code",
   "execution_count": null,
   "id": "b73e2ff5-d65d-4443-a0b0-385bb1891e38",
   "metadata": {},
   "outputs": [],
   "source": [
    "target_lat_list = target_lat[:].tolist()\n",
    "target_lon_list = target_lon[:].tolist()"
   ]
  },
  {
   "cell_type": "code",
   "execution_count": null,
   "id": "ad4c3bc3-496a-4816-9f40-3a314d3694f6",
   "metadata": {},
   "outputs": [],
   "source": [
    "# I am going to have to do this one by one ...\n",
    "# create a new rainfall timeseries dataframe - index by pid \n",
    "\n",
    "rainfall_df = pd.DataFrame({'lat':gm_csv['latitude'], 'lon':gm_csv['longitude']})\n",
    "rainfall_df.index = gm_csv['pid']"
   ]
  },
  {
   "cell_type": "code",
   "execution_count": null,
   "id": "0c022f20-de4b-4d83-98de-cc5fc10c5e71",
   "metadata": {},
   "outputs": [],
   "source": [
    "target_lon_da = xr.DataArray(target_lon_list[0])"
   ]
  },
  {
   "cell_type": "markdown",
   "id": "342a5016-b746-458e-a3b0-af817747832c",
   "metadata": {},
   "source": [
    "Find the closest precipitation value for each of the ground motion points"
   ]
  },
  {
   "cell_type": "code",
   "execution_count": null,
   "id": "f518a794-735c-46e0-9a84-9461ff446eac",
   "metadata": {},
   "outputs": [],
   "source": [
    "rainfall_timeseries = []\n",
    "\n",
    "for i in range(len(target_lon_list)):\n",
    "    \n",
    "    target_lon_da = xr.DataArray(target_lon_list[i])\n",
    "    target_lat_da = xr.DataArray(target_lat_list[i])\n",
    "\n",
    "    # Retrieve data at the grid cells nearest to the target latitudes and longitudes\n",
    "    da_closest_points = rainfall.sel(x=target_lon_da, y=target_lat_da, method=\"nearest\")\n",
    "    print(da_closest_points.x.values, da_closest_points.y.values)\n",
    "    rainfall_timeseries.append(da_closest_points)\n",
    "    \n",
    "    "
   ]
  },
  {
   "cell_type": "code",
   "execution_count": null,
   "id": "7a72a21c-fdd7-424d-9684-5704a90c4fa7",
   "metadata": {},
   "outputs": [],
   "source": [
    "time_array = rainfall_timeseries[0].time.values"
   ]
  },
  {
   "cell_type": "code",
   "execution_count": null,
   "id": "02f58c2f-3557-4192-8cd8-4fbf015c8d39",
   "metadata": {},
   "outputs": [],
   "source": [
    "column_names = gm_csv['pid'].tolist()"
   ]
  },
  {
   "cell_type": "code",
   "execution_count": null,
   "id": "dc25fbb8-cfff-4542-851b-e86bc7e45b7f",
   "metadata": {},
   "outputs": [],
   "source": [
    "rainfall_timeseries_df = pd.DataFrame(columns = column_names)"
   ]
  },
  {
   "cell_type": "code",
   "execution_count": null,
   "id": "51ff2aff-2041-4f8c-b3cf-77d5bdb1caa6",
   "metadata": {},
   "outputs": [],
   "source": [
    "# add the precipitation values to each of the ground motion points\n",
    "# this is a new dataframe that has the same column names (pid) as the \n",
    "# ground motion so it's easier to match the points. \n",
    "for i in range(len(target_lon_list)):\n",
    "    rainfall_timeseries_df.iloc[:,i] = rainfall_timeseries[i].precipitation.values.squeeze().tolist()"
   ]
  },
  {
   "cell_type": "code",
   "execution_count": null,
   "id": "b7f19340-229a-4261-80cd-83c93541cf10",
   "metadata": {},
   "outputs": [],
   "source": [
    "# change the index to the dates\n",
    "rainfall_timeseries_df.set_index(time_array, inplace=True)"
   ]
  },
  {
   "cell_type": "code",
   "execution_count": null,
   "id": "8e482914-2325-4347-bd20-e5ff1231f8b1",
   "metadata": {},
   "outputs": [],
   "source": [
    "# add a column with the timesteps in increasing order of 1 - this is for the regression\n",
    "rainfall_timeseries_df['timeseries_step'] = np.arange(0, len(rainfall_timeseries_df))\n",
    "first_column = rainfall_timeseries_df.pop('timeseries_step')\n",
    "rainfall_timeseries_df.insert(0, 'timeseries_step', first_column)"
   ]
  },
  {
   "cell_type": "markdown",
   "id": "480eee6b-8846-4b51-b2b7-c81a73d7abfa",
   "metadata": {},
   "source": [
    "### Rainfall timeseries regression"
   ]
  },
  {
   "cell_type": "code",
   "execution_count": null,
   "id": "e4ca1c13-1f7f-4d62-b2d8-254a0f0f5576",
   "metadata": {},
   "outputs": [],
   "source": [
    "from scipy import stats\n",
    "# regression for the rainfall timeseries\n",
    "all_y_reg = []\n",
    "for i in range(1,len(rainfall_timeseries_df.columns)):\n",
    "    X = rainfall_timeseries_df.loc[:, ['timeseries_step']]  # features\n",
    "    y = rainfall_timeseries_df.iloc[:, i]  # target\n",
    "    x = X.values.squeeze()\n",
    "    x = x.astype(float)\n",
    "    y = y.values.astype(float)\n",
    "    res = stats.linregress(x, y)\n",
    "    all_y_reg.append(res)\n"
   ]
  },
  {
   "cell_type": "code",
   "execution_count": null,
   "id": "72f8c224-f021-46a3-8817-69a1e8b77ea2",
   "metadata": {},
   "outputs": [],
   "source": [
    "# note that the order follows that of the dataframe columns\n",
    "\n",
    "# saving all the values of the regression \n",
    "all_rvalue = []\n",
    "all_slope_values = []\n",
    "all_intercept_values = []\n",
    "all_pvalue = []\n",
    "all_stderr = []\n",
    "all_intercept_stderr = []\n",
    "\n",
    "for i in range(len(all_y_reg)):\n",
    "    all_rvalue.append(all_y_reg[i].rvalue)\n",
    "    all_slope_values.append(all_y_reg[i].slope)\n",
    "    all_intercept_values.append(all_y_reg[i].intercept)\n",
    "    all_pvalue.append(all_y_reg[i].pvalue)\n",
    "    all_stderr.append(all_y_reg[i].stderr)\n",
    "    all_intercept_stderr.append(all_y_reg[i].intercept_stderr)\n",
    "\n",
    "    "
   ]
  },
  {
   "cell_type": "code",
   "execution_count": null,
   "id": "89c85761-ef15-4aa5-82ff-3cb6f8a91631",
   "metadata": {},
   "outputs": [],
   "source": [
    "# create a pandas dataframe with the r values and the same column names (point IDs) as the original dataframe\n",
    "df_all_rvalue = pd.DataFrame(all_rvalue)\n",
    "#df_all_rvalue = df_all_rvalue.T\n",
    "df_all_rvalue.index = rainfall_timeseries_df.columns[1:]"
   ]
  },
  {
   "cell_type": "code",
   "execution_count": null,
   "id": "4c93e888-06fb-413e-a3c2-50840d8e5641",
   "metadata": {},
   "outputs": [],
   "source": [
    "df_all_rvalue['slope'] = all_slope_values\n",
    "df_all_rvalue['intercept'] = all_intercept_values\n",
    "df_all_rvalue['pvalue'] = all_pvalue\n",
    "df_all_rvalue['stderr'] = all_stderr\n",
    "df_all_rvalue['intercept_stderr'] = all_intercept_stderr\n",
    "df_all_rvalue = df_all_rvalue.rename(columns={0: 'rvalue'})"
   ]
  },
  {
   "cell_type": "code",
   "execution_count": null,
   "id": "7e810dda-b75d-4674-91e4-f9847e127ce1",
   "metadata": {},
   "outputs": [],
   "source": [
    "df_all_rvalue.index.name = 'pid'"
   ]
  },
  {
   "cell_type": "code",
   "execution_count": null,
   "id": "a0bf4e2a-7023-47cb-ac97-3117f2a4ba7a",
   "metadata": {},
   "outputs": [],
   "source": [
    "rainfall_timeseries_df.to_csv('rainfall_timeseries_data.csv', index=True)"
   ]
  },
  {
   "cell_type": "code",
   "execution_count": null,
   "id": "319ffa56-cee6-4c63-80e4-cbc68bc85a4c",
   "metadata": {},
   "outputs": [],
   "source": [
    "# save all the values in a csv file \n",
    "\n",
    "df_all_rvalue.to_csv('rainfall_regression_values.csv', index=True)\n"
   ]
  },
  {
   "cell_type": "code",
   "execution_count": null,
   "id": "b8369e5f-4ac3-4ee9-9941-9bc0d094fc68",
   "metadata": {},
   "outputs": [],
   "source": [
    "df_linreg = df_all_rvalue"
   ]
  },
  {
   "cell_type": "code",
   "execution_count": null,
   "id": "25dcdb0d-2d39-44a0-9e29-11e9b895c0be",
   "metadata": {},
   "outputs": [],
   "source": [
    "linear_ascending = []\n",
    "linear_descending = []\n",
    "linear_constant = []\n",
    "irregular = []\n",
    "\n",
    "for i in range(len(df_linreg)):\n",
    "    if df_linreg.rvalue.iloc[i]>0.9:\n",
    "        linear_ascending.append(df_linreg.index[i])\n",
    "    elif df_linreg.rvalue.iloc[i]<-0.9:\n",
    "        linear_descending.append(df_linreg.index[i])\n",
    "    elif (df_linreg.rvalue.iloc[i]<0.025 and df_linreg.rvalue.iloc[i]>-0.025) and (-0.01<df_linreg.slope.iloc[i]<0.01):\n",
    "    #elif (-0.01<df_linreg.slope.iloc[i]<0.01):\n",
    "        linear_constant.append(df_linreg.index[i])\n",
    "    else:\n",
    "        irregular.append(df_linreg.index[i])"
   ]
  },
  {
   "cell_type": "code",
   "execution_count": null,
   "id": "3e6816af-5daa-4e41-abdf-db8d1c4ced1d",
   "metadata": {},
   "outputs": [],
   "source": [
    "print(f'ascending: {len(linear_ascending)}, descending: {len(linear_descending)},\\\n",
    "constant: {len(linear_constant)}, irregular:{len(irregular)}')"
   ]
  },
  {
   "cell_type": "markdown",
   "id": "3d348e2c-4326-40cd-90e8-296d8e5458fb",
   "metadata": {},
   "source": [
    "Basically, most of the ground motion data points correspond to only a couple of rainfall \n",
    "pixels because the resolution is so much coarses in the precipitation data. \n",
    "\n",
    "It is very hard to find any correlation between the rainfall and the ground motion data because of this. "
   ]
  },
  {
   "cell_type": "code",
   "execution_count": null,
   "id": "c64aadaa-ebee-4db0-afa1-d8d8d8915469",
   "metadata": {},
   "outputs": [],
   "source": [
    "df_all_rvalue['reg_type'] = \"\""
   ]
  },
  {
   "cell_type": "code",
   "execution_count": null,
   "id": "c6f9a0ba-bb9a-4393-8b81-79350bc53cc8",
   "metadata": {},
   "outputs": [],
   "source": [
    "for i in range(len(linear_ascending)):\n",
    "    df_all_rvalue.reg_type.loc[linear_ascending[i]] = 'ascending'"
   ]
  },
  {
   "cell_type": "code",
   "execution_count": null,
   "id": "7cd7ceed-9490-449c-8def-1700eb5c87f7",
   "metadata": {},
   "outputs": [],
   "source": [
    "for i in range(len(linear_descending)):\n",
    "    df_all_rvalue.reg_type.loc[linear_descending[i]] = 'descending'"
   ]
  },
  {
   "cell_type": "code",
   "execution_count": null,
   "id": "65db83dc-9c4b-4cb1-97bd-00222664d7ae",
   "metadata": {},
   "outputs": [],
   "source": [
    "for i in range(len(linear_constant)):\n",
    "    df_all_rvalue.reg_type.loc[linear_constant[i]] = 'constant'"
   ]
  },
  {
   "cell_type": "code",
   "execution_count": null,
   "id": "c1618099-c1ce-4d95-8bf2-d06b5fb9b598",
   "metadata": {},
   "outputs": [],
   "source": [
    "for i in range(len(irregular)):\n",
    "    df_all_rvalue.reg_type.loc[irregular[i]] = 'irregular'"
   ]
  },
  {
   "cell_type": "code",
   "execution_count": null,
   "id": "7183e316-041e-4f62-956a-15aa34c406f5",
   "metadata": {},
   "outputs": [],
   "source": [
    "df_all_rvalue.to_csv('rainfall_regression_values.csv')"
   ]
  },
  {
   "cell_type": "markdown",
   "id": "edc6b970-2301-4b58-88ab-abea8574772c",
   "metadata": {},
   "source": [
    "Checking what the rainfall points are doing - The first time this analysis is run for a new set of points it is a good idea to look at what the rainfall values are. I know now that there isn't much of a variation between ground motion points but a priori, it is hard to know. "
   ]
  },
  {
   "cell_type": "code",
   "execution_count": null,
   "id": "6622fc73-1e2a-4744-8f4e-2104c7bd51a7",
   "metadata": {},
   "outputs": [],
   "source": [
    "plt.plot(rainfall_timeseries_df.index, rainfall_timeseries_df[irregular[4]])\n"
   ]
  },
  {
   "cell_type": "code",
   "execution_count": null,
   "id": "a00b2084-1a45-4eea-8b76-e265239c8bf8",
   "metadata": {},
   "outputs": [],
   "source": [
    "### WIDGET - ASCENDING\n",
    "from ipywidgets import *\n",
    "\n",
    "plt.rcParams['figure.figsize'] = [7,4]\n",
    "\n",
    "column_name = rainfall_timeseries_df.columns[1:]\n",
    "\n",
    "def plot_data(column_number):\n",
    "    plt.plot(rainfall_timeseries_df[irregular[column_number]].values)\n",
    "    y_regression = df_all_rvalue.slope.loc[irregular[column_number]]*x + df_all_rvalue.intercept.loc[irregular[column_number]]\n",
    "    plt.plot(y_regression)\n",
    "    plt.xlabel('Time (months)')\n",
    "    plt.ylabel('Precipitation (mm)')\n",
    "    plt.title('Irregular')\n",
    "    \n",
    "interact(plot_data, column_number=(0,len(irregular)-1,1))"
   ]
  },
  {
   "cell_type": "code",
   "execution_count": null,
   "id": "8770edf2-0669-423c-9887-3d87daf87c92",
   "metadata": {},
   "outputs": [],
   "source": [
    "plt.plot(rainfall_timeseries_df.iloc[0, 1:].values.tolist(), '*')"
   ]
  },
  {
   "cell_type": "markdown",
   "id": "97ffe300-ec43-4c18-a112-714161465d27",
   "metadata": {},
   "source": [
    "Here there are very clearly only two values for the rainfall corresponding to the two rainfall pixels I have been mentioning. "
   ]
  },
  {
   "cell_type": "code",
   "execution_count": null,
   "id": "d9f194f2-7237-4350-ab02-b6140b054fe2",
   "metadata": {},
   "outputs": [],
   "source": [
    "my_arr = rainfall_timeseries_df.iloc[0, 1:].values\n",
    "np.unique(my_arr)"
   ]
  },
  {
   "cell_type": "code",
   "execution_count": null,
   "id": "f7f25df9-b5ff-4a80-8b8c-aedd0fa62910",
   "metadata": {},
   "outputs": [],
   "source": [
    "rainfall_timeseries_df.head()"
   ]
  },
  {
   "cell_type": "markdown",
   "id": "e6efbc1c-3f43-4df6-8ed7-a91dd9ec2898",
   "metadata": {},
   "source": [
    "# Plot points in the map\n",
    "\n",
    "Plotting the extend of the bounding box of the rainfall data and where the ground motion data lies with respect to those points. \n",
    "\n",
    "We can see here how much the resolution of these points vary between datasets"
   ]
  },
  {
   "cell_type": "code",
   "execution_count": null,
   "id": "6c16d67d-4f7b-43bf-a6c4-4c62e6e09b72",
   "metadata": {},
   "outputs": [],
   "source": [
    "#https://georgetsilva.github.io/posts/mapping-points-with-folium/\n",
    "\n",
    "from shapely.geometry import Point\n",
    "import folium\n",
    "\n",
    "# top left corner of the ground motion data\n",
    "my_point_first = [ 69.324028, 20.193796]\n",
    "# bottom right corner of the ground motion data\n",
    "my_point_last = [69.352196, 20.129965]\n",
    "# 4 corners of the rainfall data grid\n",
    "limit_bottom_right = [69.221508, 20.62352]\n",
    "limit_top_left = [69.407627, 19.744829]\n",
    "limit_top_right = [69.407627, 20.62352]\n",
    "limit_bottom_left = [69.221508, 19.744829]\n",
    "\n",
    "map = folium.Map(location=[69.2, 20.2], zoom_start=8)\n",
    "folium.Marker(my_point_first).add_to(map)\n",
    "folium.Marker(my_point_last).add_to(map)\n",
    "\n",
    "folium.Marker(limit_bottom_right).add_to(map)\n",
    "folium.Marker(limit_top_right).add_to(map)\n",
    "folium.Marker(limit_top_left).add_to(map)\n",
    "folium.Marker(limit_bottom_left).add_to(map)\n",
    "map"
   ]
  },
  {
   "cell_type": "code",
   "execution_count": null,
   "id": "d6896fbd-f77b-4c3d-a089-5e4e790d8a99",
   "metadata": {},
   "outputs": [],
   "source": []
  }
 ],
 "metadata": {
  "kernelspec": {
   "display_name": "Python 3 (ipykernel)",
   "language": "python",
   "name": "python3"
  },
  "language_info": {
   "codemirror_mode": {
    "name": "ipython",
    "version": 3
   },
   "file_extension": ".py",
   "mimetype": "text/x-python",
   "name": "python",
   "nbconvert_exporter": "python",
   "pygments_lexer": "ipython3",
   "version": "3.10.2"
  }
 },
 "nbformat": 4,
 "nbformat_minor": 5
}
