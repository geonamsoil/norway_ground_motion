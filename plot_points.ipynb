{
 "cells": [
  {
   "cell_type": "markdown",
   "id": "37b2b2cb-edf8-4181-843b-d61fabd678d1",
   "metadata": {},
   "source": [
    "# Plot a sample point in a map\n",
    "\n",
    "Script to load the ground motion data, select a point and plot it in a map. "
   ]
  },
  {
   "cell_type": "code",
   "execution_count": null,
   "id": "052e2273-c182-4bb8-8ccc-1f63f1665439",
   "metadata": {},
   "outputs": [],
   "source": [
    "import geopandas\n",
    "import contextily as cx\n",
    "import pandas as pd\n",
    "import matplotlib.pyplot as plt\n",
    "import folium\n",
    "from shapely.geometry import Point\n"
   ]
  },
  {
   "cell_type": "code",
   "execution_count": null,
   "id": "8fe37945-c9d7-4442-9518-18488856e3ba",
   "metadata": {},
   "outputs": [],
   "source": [
    "# load the data\n",
    "gm_csv = pd.read_csv('./tmp/160-IW1-414-s1-asc1-v2020.csv')"
   ]
  },
  {
   "cell_type": "code",
   "execution_count": null,
   "id": "f95dcc09-b5b1-4e67-b8c0-f81cb5825ae0",
   "metadata": {},
   "outputs": [],
   "source": [
    "# remove whitespaces from column names \n",
    "gm_csv.rename(columns=lambda x: x.strip(), inplace=True)"
   ]
  },
  {
   "cell_type": "code",
   "execution_count": null,
   "id": "2336fba0-50bf-42a1-9ebb-a14c0ea49a34",
   "metadata": {},
   "outputs": [],
   "source": [
    "# transpose to change rows with cols\n",
    "gm_csv_t = gm_csv.T"
   ]
  },
  {
   "cell_type": "code",
   "execution_count": null,
   "id": "d423ea8c-91a2-4ad5-b322-0e977173299d",
   "metadata": {},
   "outputs": [],
   "source": [
    "# set the 'pid' as the column name\n",
    "gm_csv_t.rename(columns=gm_csv_t.iloc[0], inplace=True)"
   ]
  },
  {
   "cell_type": "code",
   "execution_count": null,
   "id": "abee3caf-038c-4720-8aa0-3d2d4784c77d",
   "metadata": {},
   "outputs": [],
   "source": [
    "# choose a random point to plot\n",
    "lat = gm_csv_t.iloc[6,0]\n",
    "lon = gm_csv_t.iloc[7,0]"
   ]
  },
  {
   "cell_type": "code",
   "execution_count": null,
   "id": "080f93b1-5d5a-4468-a3f6-75e6cfb394f5",
   "metadata": {},
   "outputs": [],
   "source": [
    "my_point=[lat,lon]\n",
    "my_point"
   ]
  },
  {
   "cell_type": "code",
   "execution_count": null,
   "id": "15c6edf9-a748-4641-bed0-23162699f702",
   "metadata": {},
   "outputs": [],
   "source": [
    "#https://georgetsilva.github.io/posts/mapping-points-with-folium/\n",
    "map = folium.Map(location=[69.2, 20.1], zoom_start=8)\n",
    "folium.Marker(my_point).add_to(map)\n",
    "map"
   ]
  }
 ],
 "metadata": {
  "kernelspec": {
   "display_name": "Python 3 (ipykernel)",
   "language": "python",
   "name": "python3"
  },
  "language_info": {
   "codemirror_mode": {
    "name": "ipython",
    "version": 3
   },
   "file_extension": ".py",
   "mimetype": "text/x-python",
   "name": "python",
   "nbconvert_exporter": "python",
   "pygments_lexer": "ipython3",
   "version": "3.10.2"
  }
 },
 "nbformat": 4,
 "nbformat_minor": 5
}
