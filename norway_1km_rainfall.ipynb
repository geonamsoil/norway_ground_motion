{
 "cells": [
  {
   "cell_type": "markdown",
   "id": "d5d48573-1ac0-499e-aa4b-268b2d5cb55e",
   "metadata": {
    "jp-MarkdownHeadingCollapsed": true,
    "tags": []
   },
   "source": [
    "# Analyse the Norway rainfall 1km resolution data\n",
    "\n",
    "Data is free to access [here](https://zenodo.org/record/3923703)\n",
    "\n",
    "Paper [here](https://essd.copernicus.org/articles/11/1531/2019/): \n",
    "\n",
    "seNorge_2018, daily precipitation, and temperature datasets over Norway,  Cristian Lussana, Ole Einar Tveito, Andreas Dobler, and Ketil Tunheim. Earth Syst. Sci. Data, 11, 1531–1551, 2019.\n",
    "\n",
    "ATTENTION: this data is great and it would be really useful to be able to use it to study the relation between the gound motion and the precipitation. However, the file is too big, as it contains daily precipitation data from 1957 for the whole of Norway in a 1km resolution. \n",
    "\n",
    "Probably some muliprocessing or fancier loading methods are needed in xarray or otherwise.\n",
    "\n",
    "The data is also available through the [Norwegian Meteorological Institute website](https://thredds.met.no/thredds/catalog/senorge/catalog.html). This contains more diverse meteorological data at different timescales and grids. Some of it might be easier to download and use due to smaller size. \n",
    "\n",
    " "
   ]
  },
  {
   "cell_type": "code",
   "execution_count": null,
   "id": "96cb8bbe-95db-41e7-9848-3f82776431e6",
   "metadata": {},
   "outputs": [],
   "source": [
    "# load the data from .nc file using xarray "
   ]
  },
  {
   "cell_type": "code",
   "execution_count": null,
   "id": "19d6e5d9-1e2d-4a39-93b2-672c9d6b4fec",
   "metadata": {},
   "outputs": [],
   "source": [
    "import numpy as np\n",
    "import pandas as pd\n",
    "import geopandas as gpd\n",
    "import matplotlib.pyplot as plt\n",
    "import seaborn as sns\n",
    "from netCDF4 import Dataset\n",
    "import xarray as xr"
   ]
  },
  {
   "cell_type": "code",
   "execution_count": null,
   "id": "a54518ab-e2cb-4591-8f1b-a350dd956ec1",
   "metadata": {},
   "outputs": [],
   "source": [
    "rainfall_data = xr.open_dataset('seNorge2018_RR_1957_2017.nc', engine=\"rasterio\",chunks={'band': 10})\n",
    "#joint_ds = xr.open_dataset('joint_ds_with_all_times.nc', engine=\"rasterio\")"
   ]
  },
  {
   "cell_type": "code",
   "execution_count": null,
   "id": "a3e89928-bcd9-4c27-bd9a-245d46861c79",
   "metadata": {},
   "outputs": [],
   "source": [
    "data = Dataset('seNorge2018_RR_1957_2017.nc', 'r', format='netcdf3')"
   ]
  },
  {
   "cell_type": "code",
   "execution_count": null,
   "id": "1767156f-2bd9-441e-9bb9-f7bbdfadf9d9",
   "metadata": {},
   "outputs": [],
   "source": [
    "ds = xr.open_dataset(path_file, chunks={'year': 10})"
   ]
  }
 ],
 "metadata": {
  "kernelspec": {
   "display_name": "Python 3 (ipykernel)",
   "language": "python",
   "name": "python3"
  },
  "language_info": {
   "codemirror_mode": {
    "name": "ipython",
    "version": 3
   },
   "file_extension": ".py",
   "mimetype": "text/x-python",
   "name": "python",
   "nbconvert_exporter": "python",
   "pygments_lexer": "ipython3",
   "version": "3.10.2"
  }
 },
 "nbformat": 4,
 "nbformat_minor": 5
}
