{
 "cells": [
  {
   "cell_type": "markdown",
   "id": "3b50931e-2bff-47a6-89b6-6cea43ad1b19",
   "metadata": {},
   "source": [
    "# Rainfall regression mapped to ground motion points\n",
    "\n",
    "As the title says. This shows the results of the regression on the rainfall timeseries at the points where we have ground motion data. \n",
    "\n",
    "Given the different resolutions we only have two regression values because all the ground motion points are within 2 pixels of the rainfall data"
   ]
  },
  {
   "cell_type": "code",
   "execution_count": null,
   "id": "9500583b-3be2-4205-8acc-26505a354731",
   "metadata": {},
   "outputs": [],
   "source": [
    "import numpy as np\n",
    "import pandas as pd\n",
    "import geopandas as gpd\n",
    "import matplotlib.pyplot as plt\n",
    "from ipywidgets import *\n"
   ]
  },
  {
   "cell_type": "code",
   "execution_count": null,
   "id": "b54b1821-f507-409a-b8f6-ee42d04552dd",
   "metadata": {},
   "outputs": [],
   "source": [
    "rain_csv = pd.read_csv('rainfall_timeseries_data.csv')\n",
    "rain_csv.rename(columns={rain_csv.columns[0]: \"date\" }, inplace = True)\n",
    "rain_csv.set_index('date', inplace=True)"
   ]
  },
  {
   "cell_type": "code",
   "execution_count": null,
   "id": "36cb35a9-523d-46a2-9d01-cf756911da31",
   "metadata": {},
   "outputs": [],
   "source": [
    "rain_reg = pd.read_csv('rainfall_regression_values.csv')\n",
    "rain_reg.set_index('pid', inplace=True)"
   ]
  },
  {
   "cell_type": "code",
   "execution_count": null,
   "id": "0091f66d-f3ee-4ae4-9f09-32043784d2a7",
   "metadata": {},
   "outputs": [],
   "source": [
    "# get the widget working \n",
    "full_gm_data = pd.read_csv('./tmp/160-IW1-414-s1-asc1-v2020.csv')\n",
    "full_gm_data.rename(columns=lambda x: x.strip(), inplace=True)"
   ]
  },
  {
   "cell_type": "code",
   "execution_count": null,
   "id": "59fa5bae-7fb1-429f-99bf-11bd95f917f4",
   "metadata": {},
   "outputs": [],
   "source": [
    "gm_lat = full_gm_data['latitude']\n",
    "gm_lon = full_gm_data['longitude']\n",
    "pid = full_gm_data['pid']"
   ]
  },
  {
   "cell_type": "code",
   "execution_count": null,
   "id": "63257ff7-8372-4dd9-a65d-51d2411658de",
   "metadata": {},
   "outputs": [],
   "source": [
    "gm_lat_lon = pd.DataFrame({'latitude':gm_lat, 'longitude':gm_lon})\n",
    "gm_lat_lon.index = pid"
   ]
  },
  {
   "cell_type": "code",
   "execution_count": null,
   "id": "ce4b0375-442e-4d9f-a3bc-b131ddd4fbeb",
   "metadata": {},
   "outputs": [],
   "source": [
    "rain_reg['latitude'] = gm_lat_lon['latitude']\n",
    "rain_reg['longitude'] = gm_lat_lon['longitude']"
   ]
  },
  {
   "cell_type": "code",
   "execution_count": null,
   "id": "01ca80d5-6336-41b6-a586-75bbe3054bbe",
   "metadata": {},
   "outputs": [],
   "source": [
    "mapping = {'ascending': 1, 'descending': 2, 'constant': 3, 'irregular': 4}\n",
    "\n",
    "rain_reg.replace({'reg_type': mapping}, inplace=True)"
   ]
  },
  {
   "cell_type": "code",
   "execution_count": null,
   "id": "59cb0906-5c60-4407-9a49-4cb83d223f01",
   "metadata": {},
   "outputs": [],
   "source": [
    "rain_reg.head()"
   ]
  },
  {
   "cell_type": "code",
   "execution_count": null,
   "id": "d2206d67-8d22-4a7c-9951-018236dd5631",
   "metadata": {},
   "outputs": [],
   "source": [
    "import folium\n",
    "import branca.colormap as cm\n",
    "#create a map\n",
    "this_map = folium.Map(prefer_canvas=True)\n",
    "\n",
    "#create a color map\n",
    "color_var = 'slope' #what variable will determine the color\n",
    "cmap = cm.LinearColormap(['cyan', 'red'],\n",
    "                         vmin=rain_reg[color_var].min(), vmax=rain_reg[color_var].max(),\n",
    "                         caption = color_var)\n",
    "\n",
    "#Add the color map legend to your map\n",
    "this_map.add_child(cmap)\n",
    "\n",
    "def plotDot(point):\n",
    "    '''input: series that contains a numeric named latitude and a numeric named longitude\n",
    "    this function creates a CircleMarker and adds it to your this_map'''\n",
    "    folium.CircleMarker(location=[point.latitude, point.longitude],\n",
    "                        fill_color=cmap(point[color_var]),\n",
    "                        radius=2,\n",
    "                        weight=0).add_to(this_map)\n",
    "\n",
    "#use df.apply(,axis=1) to iterate through every row in your dataframe\n",
    "rain_reg.apply(plotDot, axis = 1)\n",
    "\n",
    "#Set the zoom to the maximum possible\n",
    "this_map.fit_bounds(this_map.get_bounds())\n",
    "\n",
    "#Save the map to an HTML file\n",
    "this_map.save(os.path.join('figures/rainfall_points_reg.html'))\n",
    "\n",
    "\n",
    "this_map\n",
    "\n"
   ]
  }
 ],
 "metadata": {
  "kernelspec": {
   "display_name": "Python 3 (ipykernel)",
   "language": "python",
   "name": "python3"
  },
  "language_info": {
   "codemirror_mode": {
    "name": "ipython",
    "version": 3
   },
   "file_extension": ".py",
   "mimetype": "text/x-python",
   "name": "python",
   "nbconvert_exporter": "python",
   "pygments_lexer": "ipython3",
   "version": "3.10.2"
  }
 },
 "nbformat": 4,
 "nbformat_minor": 5
}
