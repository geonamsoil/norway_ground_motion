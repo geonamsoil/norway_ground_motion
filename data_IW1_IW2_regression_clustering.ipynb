{
 "cells": [
  {
   "cell_type": "markdown",
   "id": "ee60c6aa-28f9-48fc-8d0a-3c61873c0bfa",
   "metadata": {},
   "source": [
    "# Ground motion IW1 and IW2 data \n",
    "\n",
    "Combine the data `160-IW1-414-s1-asc1-v2020.csv` and `160-IW2-414-s1-asc1-v2020.csv`. Not sure what the differences are so having a look.\n",
    "\n",
    "SPOILER: the datasets are extremely similar, they just differ in the mode of acquisition but the points are pretty much undistinguishable..."
   ]
  },
  {
   "cell_type": "code",
   "execution_count": 2,
   "id": "b26f1458-eac9-41a9-ae28-6c12fa6d8c82",
   "metadata": {},
   "outputs": [],
   "source": [
    "# import numpy as np\n",
    "import pandas as pd\n",
    "import geopandas as gpd\n",
    "import matplotlib.pyplot as plt\n",
    "from ipywidgets import *\n",
    "import numpy as np\n"
   ]
  },
  {
   "cell_type": "code",
   "execution_count": 3,
   "id": "54a61f10-15b3-40ae-9449-7a344be687e3",
   "metadata": {},
   "outputs": [],
   "source": [
    "gm_csv = pd.read_csv('./tmp2/160-IW1-414-s1-asc1-v2020.csv')"
   ]
  },
  {
   "cell_type": "code",
   "execution_count": 4,
   "id": "c0b7f1e7-bf4b-4d0f-a6b4-0cc82f649543",
   "metadata": {},
   "outputs": [],
   "source": [
    "# remove whitespaces from column names \n",
    "gm_csv.rename(columns=lambda x: x.strip(), inplace=True)"
   ]
  },
  {
   "cell_type": "code",
   "execution_count": 5,
   "id": "444c29b6-202d-4554-b483-3171d56f3257",
   "metadata": {},
   "outputs": [],
   "source": [
    "#transposer - rowes are columns and vice versa\n",
    "gm_csv_t = gm_csv.T"
   ]
  },
  {
   "cell_type": "code",
   "execution_count": 6,
   "id": "5b043b21-a17d-4e63-bdc7-3aa06efca8e6",
   "metadata": {},
   "outputs": [],
   "source": [
    "# set the 'pid' as the column name\n",
    "gm_csv_t.rename(columns=gm_csv_t.iloc[0], inplace=True)"
   ]
  },
  {
   "cell_type": "code",
   "execution_count": 7,
   "id": "cca6d4ee-ef45-401d-ac5f-f20d2730498a",
   "metadata": {},
   "outputs": [],
   "source": [
    "#remove all rows which are not dates - first date is on entry #21\n",
    "gm_csv_t_dates= gm_csv_t.iloc[21: , :]"
   ]
  },
  {
   "cell_type": "code",
   "execution_count": 8,
   "id": "b18dce35-50e2-463c-a070-167bdbbce169",
   "metadata": {},
   "outputs": [],
   "source": [
    "#need to make a copy of the dataframe so that I don't mess it up\n",
    "gm_copy = gm_csv_t_dates.copy()"
   ]
  },
  {
   "cell_type": "code",
   "execution_count": 30,
   "id": "e252ae0b-630a-449f-bf84-6f24f9c14325",
   "metadata": {},
   "outputs": [],
   "source": [
    "gm_csv_2 = pd.read_csv('./tmp2/160-IW2-414-s1-asc1-v2020.csv')\n",
    "# remove whitespaces from column names \n",
    "gm_csv_2.rename(columns=lambda x: x.strip(), inplace=True)\n",
    "#transposer - rowes are columns and vice versa\n",
    "gm_csv_t_2 = gm_csv_2.T\n",
    "gm_csv_t_2.rename(columns=gm_csv_t_2.iloc[0], inplace=True)\n",
    "gm_csv_t_dates_2= gm_csv_t_2.iloc[21: , :]"
   ]
  },
  {
   "cell_type": "code",
   "execution_count": 41,
   "id": "5304c0b5-8767-445a-a208-1594a5e36bee",
   "metadata": {},
   "outputs": [],
   "source": [
    "# join both datasets in the column dimension\n",
    "full_gm_dataset = pd.concat([gm_csv_t_dates, gm_csv_t_dates_2], axis=1)"
   ]
  },
  {
   "cell_type": "code",
   "execution_count": 42,
   "id": "08e886e1-3290-4039-b2be-031fb8920f90",
   "metadata": {},
   "outputs": [
    {
     "data": {
      "text/html": [
       "<div>\n",
       "<style scoped>\n",
       "    .dataframe tbody tr th:only-of-type {\n",
       "        vertical-align: middle;\n",
       "    }\n",
       "\n",
       "    .dataframe tbody tr th {\n",
       "        vertical-align: top;\n",
       "    }\n",
       "\n",
       "    .dataframe thead th {\n",
       "        text-align: right;\n",
       "    }\n",
       "</style>\n",
       "<table border=\"1\" class=\"dataframe\">\n",
       "  <thead>\n",
       "    <tr style=\"text-align: right;\">\n",
       "      <th></th>\n",
       "      <th>1398606531743094</th>\n",
       "      <th>1398606531775866</th>\n",
       "      <th>1398606531808630</th>\n",
       "      <th>1398606531808634</th>\n",
       "      <th>1398606531841402</th>\n",
       "      <th>1398606531874163</th>\n",
       "      <th>1398606531874169</th>\n",
       "      <th>1398606531874170</th>\n",
       "      <th>1398606531906937</th>\n",
       "      <th>1398606531906938</th>\n",
       "      <th>...</th>\n",
       "      <th>1398881402716178</th>\n",
       "      <th>1398881402716184</th>\n",
       "      <th>1398881402748953</th>\n",
       "      <th>1398881402748954</th>\n",
       "      <th>1398881402748965</th>\n",
       "      <th>1398881402880022</th>\n",
       "      <th>1398881402880023</th>\n",
       "      <th>1398881402912790</th>\n",
       "      <th>1398881402912791</th>\n",
       "      <th>1398881402912792</th>\n",
       "    </tr>\n",
       "  </thead>\n",
       "  <tbody>\n",
       "    <tr>\n",
       "      <th>20141004</th>\n",
       "      <td>0.0</td>\n",
       "      <td>0.0</td>\n",
       "      <td>0.0</td>\n",
       "      <td>0.0</td>\n",
       "      <td>0.0</td>\n",
       "      <td>0.0</td>\n",
       "      <td>0.0</td>\n",
       "      <td>0.0</td>\n",
       "      <td>0.0</td>\n",
       "      <td>0.0</td>\n",
       "      <td>...</td>\n",
       "      <td>0.0</td>\n",
       "      <td>0.0</td>\n",
       "      <td>0.0</td>\n",
       "      <td>0.0</td>\n",
       "      <td>0.0</td>\n",
       "      <td>0.0</td>\n",
       "      <td>0.0</td>\n",
       "      <td>0.0</td>\n",
       "      <td>0.0</td>\n",
       "      <td>0.0</td>\n",
       "    </tr>\n",
       "    <tr>\n",
       "      <th>20150601</th>\n",
       "      <td>2.95</td>\n",
       "      <td>8.12</td>\n",
       "      <td>14.91</td>\n",
       "      <td>5.49</td>\n",
       "      <td>1.84</td>\n",
       "      <td>-0.19</td>\n",
       "      <td>8.95</td>\n",
       "      <td>7.56</td>\n",
       "      <td>6.86</td>\n",
       "      <td>4.6</td>\n",
       "      <td>...</td>\n",
       "      <td>8.45</td>\n",
       "      <td>-4.74</td>\n",
       "      <td>-2.57</td>\n",
       "      <td>-5.46</td>\n",
       "      <td>-7.02</td>\n",
       "      <td>8.5</td>\n",
       "      <td>5.25</td>\n",
       "      <td>9.08</td>\n",
       "      <td>-11.27</td>\n",
       "      <td>-8.61</td>\n",
       "    </tr>\n",
       "    <tr>\n",
       "      <th>20150613</th>\n",
       "      <td>-8.52</td>\n",
       "      <td>9.88</td>\n",
       "      <td>-7.66</td>\n",
       "      <td>9.27</td>\n",
       "      <td>13.73</td>\n",
       "      <td>-18.68</td>\n",
       "      <td>-10.2</td>\n",
       "      <td>16.09</td>\n",
       "      <td>-6.57</td>\n",
       "      <td>10.78</td>\n",
       "      <td>...</td>\n",
       "      <td>-2.17</td>\n",
       "      <td>-12.76</td>\n",
       "      <td>-16.66</td>\n",
       "      <td>6.32</td>\n",
       "      <td>-3.46</td>\n",
       "      <td>-0.76</td>\n",
       "      <td>1.11</td>\n",
       "      <td>1.8</td>\n",
       "      <td>-11.55</td>\n",
       "      <td>-13.4</td>\n",
       "    </tr>\n",
       "    <tr>\n",
       "      <th>20150625</th>\n",
       "      <td>-5.99</td>\n",
       "      <td>2.67</td>\n",
       "      <td>5.27</td>\n",
       "      <td>4.45</td>\n",
       "      <td>-3.49</td>\n",
       "      <td>0.74</td>\n",
       "      <td>0.07</td>\n",
       "      <td>-1.16</td>\n",
       "      <td>2.18</td>\n",
       "      <td>-3.05</td>\n",
       "      <td>...</td>\n",
       "      <td>8.4</td>\n",
       "      <td>-16.0</td>\n",
       "      <td>-15.72</td>\n",
       "      <td>2.51</td>\n",
       "      <td>-9.06</td>\n",
       "      <td>8.51</td>\n",
       "      <td>3.11</td>\n",
       "      <td>7.55</td>\n",
       "      <td>5.17</td>\n",
       "      <td>-11.96</td>\n",
       "    </tr>\n",
       "    <tr>\n",
       "      <th>20150707</th>\n",
       "      <td>-2.23</td>\n",
       "      <td>10.62</td>\n",
       "      <td>14.08</td>\n",
       "      <td>-3.77</td>\n",
       "      <td>-2.8</td>\n",
       "      <td>-11.93</td>\n",
       "      <td>-4.34</td>\n",
       "      <td>9.97</td>\n",
       "      <td>1.3</td>\n",
       "      <td>5.52</td>\n",
       "      <td>...</td>\n",
       "      <td>0.91</td>\n",
       "      <td>-6.72</td>\n",
       "      <td>-5.11</td>\n",
       "      <td>-5.37</td>\n",
       "      <td>-10.19</td>\n",
       "      <td>-2.74</td>\n",
       "      <td>-2.22</td>\n",
       "      <td>0.96</td>\n",
       "      <td>-3.97</td>\n",
       "      <td>-4.94</td>\n",
       "    </tr>\n",
       "    <tr>\n",
       "      <th>...</th>\n",
       "      <td>...</td>\n",
       "      <td>...</td>\n",
       "      <td>...</td>\n",
       "      <td>...</td>\n",
       "      <td>...</td>\n",
       "      <td>...</td>\n",
       "      <td>...</td>\n",
       "      <td>...</td>\n",
       "      <td>...</td>\n",
       "      <td>...</td>\n",
       "      <td>...</td>\n",
       "      <td>...</td>\n",
       "      <td>...</td>\n",
       "      <td>...</td>\n",
       "      <td>...</td>\n",
       "      <td>...</td>\n",
       "      <td>...</td>\n",
       "      <td>...</td>\n",
       "      <td>...</td>\n",
       "      <td>...</td>\n",
       "      <td>...</td>\n",
       "    </tr>\n",
       "    <tr>\n",
       "      <th>20201002</th>\n",
       "      <td>1.48</td>\n",
       "      <td>9.46</td>\n",
       "      <td>-2.11</td>\n",
       "      <td>10.49</td>\n",
       "      <td>9.65</td>\n",
       "      <td>-1.56</td>\n",
       "      <td>8.91</td>\n",
       "      <td>12.84</td>\n",
       "      <td>11.98</td>\n",
       "      <td>9.68</td>\n",
       "      <td>...</td>\n",
       "      <td>7.33</td>\n",
       "      <td>-6.63</td>\n",
       "      <td>-5.24</td>\n",
       "      <td>-8.18</td>\n",
       "      <td>-3.72</td>\n",
       "      <td>7.56</td>\n",
       "      <td>6.15</td>\n",
       "      <td>11.87</td>\n",
       "      <td>8.99</td>\n",
       "      <td>8.58</td>\n",
       "    </tr>\n",
       "    <tr>\n",
       "      <th>20201008</th>\n",
       "      <td>-0.93</td>\n",
       "      <td>10.04</td>\n",
       "      <td>10.44</td>\n",
       "      <td>9.02</td>\n",
       "      <td>8.11</td>\n",
       "      <td>-0.71</td>\n",
       "      <td>3.81</td>\n",
       "      <td>9.95</td>\n",
       "      <td>5.77</td>\n",
       "      <td>7.09</td>\n",
       "      <td>...</td>\n",
       "      <td>6.72</td>\n",
       "      <td>-3.66</td>\n",
       "      <td>-7.01</td>\n",
       "      <td>-9.29</td>\n",
       "      <td>-1.97</td>\n",
       "      <td>8.65</td>\n",
       "      <td>5.9</td>\n",
       "      <td>16.59</td>\n",
       "      <td>9.6</td>\n",
       "      <td>2.49</td>\n",
       "    </tr>\n",
       "    <tr>\n",
       "      <th>20201014</th>\n",
       "      <td>-4.52</td>\n",
       "      <td>-5.44</td>\n",
       "      <td>-0.03</td>\n",
       "      <td>-1.52</td>\n",
       "      <td>8.76</td>\n",
       "      <td>-11.5</td>\n",
       "      <td>7.2</td>\n",
       "      <td>10.9</td>\n",
       "      <td>10.64</td>\n",
       "      <td>6.87</td>\n",
       "      <td>...</td>\n",
       "      <td>12.14</td>\n",
       "      <td>-9.49</td>\n",
       "      <td>-6.97</td>\n",
       "      <td>-8.39</td>\n",
       "      <td>-4.43</td>\n",
       "      <td>11.53</td>\n",
       "      <td>6.0</td>\n",
       "      <td>11.3</td>\n",
       "      <td>8.7</td>\n",
       "      <td>0.51</td>\n",
       "    </tr>\n",
       "    <tr>\n",
       "      <th>20201020</th>\n",
       "      <td>-1.01</td>\n",
       "      <td>11.57</td>\n",
       "      <td>4.22</td>\n",
       "      <td>1.96</td>\n",
       "      <td>3.87</td>\n",
       "      <td>1.64</td>\n",
       "      <td>-3.51</td>\n",
       "      <td>-2.01</td>\n",
       "      <td>-1.02</td>\n",
       "      <td>-5.18</td>\n",
       "      <td>...</td>\n",
       "      <td>4.53</td>\n",
       "      <td>-21.17</td>\n",
       "      <td>-13.66</td>\n",
       "      <td>-14.6</td>\n",
       "      <td>-12.1</td>\n",
       "      <td>15.98</td>\n",
       "      <td>-0.87</td>\n",
       "      <td>11.8</td>\n",
       "      <td>2.8</td>\n",
       "      <td>2.47</td>\n",
       "    </tr>\n",
       "    <tr>\n",
       "      <th>20201026</th>\n",
       "      <td>9.99</td>\n",
       "      <td>1.05</td>\n",
       "      <td>11.96</td>\n",
       "      <td>10.66</td>\n",
       "      <td>18.969999</td>\n",
       "      <td>-11.78</td>\n",
       "      <td>12.48</td>\n",
       "      <td>9.01</td>\n",
       "      <td>12.43</td>\n",
       "      <td>8.84</td>\n",
       "      <td>...</td>\n",
       "      <td>5.86</td>\n",
       "      <td>-8.25</td>\n",
       "      <td>1.11</td>\n",
       "      <td>4.36</td>\n",
       "      <td>-2.81</td>\n",
       "      <td>1.59</td>\n",
       "      <td>-4.11</td>\n",
       "      <td>-2.38</td>\n",
       "      <td>-3.2</td>\n",
       "      <td>19.030001</td>\n",
       "    </tr>\n",
       "  </tbody>\n",
       "</table>\n",
       "<p>130 rows × 29504 columns</p>\n",
       "</div>"
      ],
      "text/plain": [
       "         1398606531743094 1398606531775866 1398606531808630 1398606531808634  \\\n",
       "20141004              0.0              0.0              0.0              0.0   \n",
       "20150601             2.95             8.12            14.91             5.49   \n",
       "20150613            -8.52             9.88            -7.66             9.27   \n",
       "20150625            -5.99             2.67             5.27             4.45   \n",
       "20150707            -2.23            10.62            14.08            -3.77   \n",
       "...                   ...              ...              ...              ...   \n",
       "20201002             1.48             9.46            -2.11            10.49   \n",
       "20201008            -0.93            10.04            10.44             9.02   \n",
       "20201014            -4.52            -5.44            -0.03            -1.52   \n",
       "20201020            -1.01            11.57             4.22             1.96   \n",
       "20201026             9.99             1.05            11.96            10.66   \n",
       "\n",
       "         1398606531841402 1398606531874163 1398606531874169 1398606531874170  \\\n",
       "20141004              0.0              0.0              0.0              0.0   \n",
       "20150601             1.84            -0.19             8.95             7.56   \n",
       "20150613            13.73           -18.68            -10.2            16.09   \n",
       "20150625            -3.49             0.74             0.07            -1.16   \n",
       "20150707             -2.8           -11.93            -4.34             9.97   \n",
       "...                   ...              ...              ...              ...   \n",
       "20201002             9.65            -1.56             8.91            12.84   \n",
       "20201008             8.11            -0.71             3.81             9.95   \n",
       "20201014             8.76            -11.5              7.2             10.9   \n",
       "20201020             3.87             1.64            -3.51            -2.01   \n",
       "20201026        18.969999           -11.78            12.48             9.01   \n",
       "\n",
       "         1398606531906937 1398606531906938  ... 1398881402716178  \\\n",
       "20141004              0.0              0.0  ...              0.0   \n",
       "20150601             6.86              4.6  ...             8.45   \n",
       "20150613            -6.57            10.78  ...            -2.17   \n",
       "20150625             2.18            -3.05  ...              8.4   \n",
       "20150707              1.3             5.52  ...             0.91   \n",
       "...                   ...              ...  ...              ...   \n",
       "20201002            11.98             9.68  ...             7.33   \n",
       "20201008             5.77             7.09  ...             6.72   \n",
       "20201014            10.64             6.87  ...            12.14   \n",
       "20201020            -1.02            -5.18  ...             4.53   \n",
       "20201026            12.43             8.84  ...             5.86   \n",
       "\n",
       "         1398881402716184 1398881402748953 1398881402748954 1398881402748965  \\\n",
       "20141004              0.0              0.0              0.0              0.0   \n",
       "20150601            -4.74            -2.57            -5.46            -7.02   \n",
       "20150613           -12.76           -16.66             6.32            -3.46   \n",
       "20150625            -16.0           -15.72             2.51            -9.06   \n",
       "20150707            -6.72            -5.11            -5.37           -10.19   \n",
       "...                   ...              ...              ...              ...   \n",
       "20201002            -6.63            -5.24            -8.18            -3.72   \n",
       "20201008            -3.66            -7.01            -9.29            -1.97   \n",
       "20201014            -9.49            -6.97            -8.39            -4.43   \n",
       "20201020           -21.17           -13.66            -14.6            -12.1   \n",
       "20201026            -8.25             1.11             4.36            -2.81   \n",
       "\n",
       "         1398881402880022 1398881402880023 1398881402912790 1398881402912791  \\\n",
       "20141004              0.0              0.0              0.0              0.0   \n",
       "20150601              8.5             5.25             9.08           -11.27   \n",
       "20150613            -0.76             1.11              1.8           -11.55   \n",
       "20150625             8.51             3.11             7.55             5.17   \n",
       "20150707            -2.74            -2.22             0.96            -3.97   \n",
       "...                   ...              ...              ...              ...   \n",
       "20201002             7.56             6.15            11.87             8.99   \n",
       "20201008             8.65              5.9            16.59              9.6   \n",
       "20201014            11.53              6.0             11.3              8.7   \n",
       "20201020            15.98            -0.87             11.8              2.8   \n",
       "20201026             1.59            -4.11            -2.38             -3.2   \n",
       "\n",
       "         1398881402912792  \n",
       "20141004              0.0  \n",
       "20150601            -8.61  \n",
       "20150613            -13.4  \n",
       "20150625           -11.96  \n",
       "20150707            -4.94  \n",
       "...                   ...  \n",
       "20201002             8.58  \n",
       "20201008             2.49  \n",
       "20201014             0.51  \n",
       "20201020             2.47  \n",
       "20201026        19.030001  \n",
       "\n",
       "[130 rows x 29504 columns]"
      ]
     },
     "execution_count": 42,
     "metadata": {},
     "output_type": "execute_result"
    }
   ],
   "source": [
    "full_gm_dataset"
   ]
  },
  {
   "cell_type": "markdown",
   "id": "a2a63fdb-756c-4c9f-9396-83906e312451",
   "metadata": {
    "tags": []
   },
   "source": [
    "### Linear regression on timeseries - what are the trends that we are trying to pick up??\n",
    "\n",
    "Same analysis as previously but just with the concatenated expanded data\n",
    "\n",
    "* Ascending, descending, constant or irregular\n",
    "* Seasonality trends\n",
    "\n",
    "http://kdd.ics.uci.edu/databases/synthetic_control/synthetic_control.data.html\n",
    "\n",
    "We could potentially use this data to pretrain an algorithm?\n",
    "https://www.andreaperlato.com/tspost/time-series-classification/"
   ]
  },
  {
   "cell_type": "code",
   "execution_count": 43,
   "id": "0ebeaa7c-239a-4f65-93b2-9925fbbb3eae",
   "metadata": {},
   "outputs": [
    {
     "data": {
      "text/plain": [
       "DatetimeIndex(['2014-10-04', '2015-06-01', '2015-06-13', '2015-06-25',\n",
       "               '2015-07-07', '2015-07-19', '2015-07-31', '2015-08-12',\n",
       "               '2015-08-24', '2015-09-05',\n",
       "               ...\n",
       "               '2020-09-02', '2020-09-08', '2020-09-14', '2020-09-20',\n",
       "               '2020-09-26', '2020-10-02', '2020-10-08', '2020-10-14',\n",
       "               '2020-10-20', '2020-10-26'],\n",
       "              dtype='datetime64[ns]', length=130, freq=None)"
      ]
     },
     "execution_count": 43,
     "metadata": {},
     "output_type": "execute_result"
    }
   ],
   "source": [
    "pd.to_datetime(full_gm_dataset.index)"
   ]
  },
  {
   "cell_type": "code",
   "execution_count": 44,
   "id": "f1da5850-6fcc-49ed-b093-69aced3fdcfd",
   "metadata": {},
   "outputs": [],
   "source": [
    "# create a new column with the timestep number to make it easier to work with instead of dates\n",
    "\n",
    "df = full_gm_dataset.copy()\n",
    "df['timeseries_step'] = np.arange(0, len(full_gm_dataset))"
   ]
  },
  {
   "cell_type": "code",
   "execution_count": 45,
   "id": "8a492a3b-9025-4bf3-b3b4-382ff86022de",
   "metadata": {},
   "outputs": [],
   "source": [
    "first_column = df.pop('timeseries_step')"
   ]
  },
  {
   "cell_type": "code",
   "execution_count": 46,
   "id": "225b87c3-de40-4400-9ab7-fdec4d8a2992",
   "metadata": {},
   "outputs": [],
   "source": [
    "df.insert(0, 'timeseries_step', first_column)"
   ]
  },
  {
   "cell_type": "code",
   "execution_count": 47,
   "id": "af796611-7d0a-4a3c-b973-e328c0841f91",
   "metadata": {},
   "outputs": [
    {
     "data": {
      "text/html": [
       "<div>\n",
       "<style scoped>\n",
       "    .dataframe tbody tr th:only-of-type {\n",
       "        vertical-align: middle;\n",
       "    }\n",
       "\n",
       "    .dataframe tbody tr th {\n",
       "        vertical-align: top;\n",
       "    }\n",
       "\n",
       "    .dataframe thead th {\n",
       "        text-align: right;\n",
       "    }\n",
       "</style>\n",
       "<table border=\"1\" class=\"dataframe\">\n",
       "  <thead>\n",
       "    <tr style=\"text-align: right;\">\n",
       "      <th></th>\n",
       "      <th>timeseries_step</th>\n",
       "      <th>1398606531743094</th>\n",
       "      <th>1398606531775866</th>\n",
       "      <th>1398606531808630</th>\n",
       "      <th>1398606531808634</th>\n",
       "      <th>1398606531841402</th>\n",
       "      <th>1398606531874163</th>\n",
       "      <th>1398606531874169</th>\n",
       "      <th>1398606531874170</th>\n",
       "      <th>1398606531906937</th>\n",
       "      <th>...</th>\n",
       "      <th>1398881402716178</th>\n",
       "      <th>1398881402716184</th>\n",
       "      <th>1398881402748953</th>\n",
       "      <th>1398881402748954</th>\n",
       "      <th>1398881402748965</th>\n",
       "      <th>1398881402880022</th>\n",
       "      <th>1398881402880023</th>\n",
       "      <th>1398881402912790</th>\n",
       "      <th>1398881402912791</th>\n",
       "      <th>1398881402912792</th>\n",
       "    </tr>\n",
       "  </thead>\n",
       "  <tbody>\n",
       "    <tr>\n",
       "      <th>20141004</th>\n",
       "      <td>0</td>\n",
       "      <td>0.0</td>\n",
       "      <td>0.0</td>\n",
       "      <td>0.0</td>\n",
       "      <td>0.0</td>\n",
       "      <td>0.0</td>\n",
       "      <td>0.0</td>\n",
       "      <td>0.0</td>\n",
       "      <td>0.0</td>\n",
       "      <td>0.0</td>\n",
       "      <td>...</td>\n",
       "      <td>0.0</td>\n",
       "      <td>0.0</td>\n",
       "      <td>0.0</td>\n",
       "      <td>0.0</td>\n",
       "      <td>0.0</td>\n",
       "      <td>0.0</td>\n",
       "      <td>0.0</td>\n",
       "      <td>0.0</td>\n",
       "      <td>0.0</td>\n",
       "      <td>0.0</td>\n",
       "    </tr>\n",
       "    <tr>\n",
       "      <th>20150601</th>\n",
       "      <td>1</td>\n",
       "      <td>2.95</td>\n",
       "      <td>8.12</td>\n",
       "      <td>14.91</td>\n",
       "      <td>5.49</td>\n",
       "      <td>1.84</td>\n",
       "      <td>-0.19</td>\n",
       "      <td>8.95</td>\n",
       "      <td>7.56</td>\n",
       "      <td>6.86</td>\n",
       "      <td>...</td>\n",
       "      <td>8.45</td>\n",
       "      <td>-4.74</td>\n",
       "      <td>-2.57</td>\n",
       "      <td>-5.46</td>\n",
       "      <td>-7.02</td>\n",
       "      <td>8.5</td>\n",
       "      <td>5.25</td>\n",
       "      <td>9.08</td>\n",
       "      <td>-11.27</td>\n",
       "      <td>-8.61</td>\n",
       "    </tr>\n",
       "    <tr>\n",
       "      <th>20150613</th>\n",
       "      <td>2</td>\n",
       "      <td>-8.52</td>\n",
       "      <td>9.88</td>\n",
       "      <td>-7.66</td>\n",
       "      <td>9.27</td>\n",
       "      <td>13.73</td>\n",
       "      <td>-18.68</td>\n",
       "      <td>-10.2</td>\n",
       "      <td>16.09</td>\n",
       "      <td>-6.57</td>\n",
       "      <td>...</td>\n",
       "      <td>-2.17</td>\n",
       "      <td>-12.76</td>\n",
       "      <td>-16.66</td>\n",
       "      <td>6.32</td>\n",
       "      <td>-3.46</td>\n",
       "      <td>-0.76</td>\n",
       "      <td>1.11</td>\n",
       "      <td>1.8</td>\n",
       "      <td>-11.55</td>\n",
       "      <td>-13.4</td>\n",
       "    </tr>\n",
       "    <tr>\n",
       "      <th>20150625</th>\n",
       "      <td>3</td>\n",
       "      <td>-5.99</td>\n",
       "      <td>2.67</td>\n",
       "      <td>5.27</td>\n",
       "      <td>4.45</td>\n",
       "      <td>-3.49</td>\n",
       "      <td>0.74</td>\n",
       "      <td>0.07</td>\n",
       "      <td>-1.16</td>\n",
       "      <td>2.18</td>\n",
       "      <td>...</td>\n",
       "      <td>8.4</td>\n",
       "      <td>-16.0</td>\n",
       "      <td>-15.72</td>\n",
       "      <td>2.51</td>\n",
       "      <td>-9.06</td>\n",
       "      <td>8.51</td>\n",
       "      <td>3.11</td>\n",
       "      <td>7.55</td>\n",
       "      <td>5.17</td>\n",
       "      <td>-11.96</td>\n",
       "    </tr>\n",
       "    <tr>\n",
       "      <th>20150707</th>\n",
       "      <td>4</td>\n",
       "      <td>-2.23</td>\n",
       "      <td>10.62</td>\n",
       "      <td>14.08</td>\n",
       "      <td>-3.77</td>\n",
       "      <td>-2.8</td>\n",
       "      <td>-11.93</td>\n",
       "      <td>-4.34</td>\n",
       "      <td>9.97</td>\n",
       "      <td>1.3</td>\n",
       "      <td>...</td>\n",
       "      <td>0.91</td>\n",
       "      <td>-6.72</td>\n",
       "      <td>-5.11</td>\n",
       "      <td>-5.37</td>\n",
       "      <td>-10.19</td>\n",
       "      <td>-2.74</td>\n",
       "      <td>-2.22</td>\n",
       "      <td>0.96</td>\n",
       "      <td>-3.97</td>\n",
       "      <td>-4.94</td>\n",
       "    </tr>\n",
       "  </tbody>\n",
       "</table>\n",
       "<p>5 rows × 29505 columns</p>\n",
       "</div>"
      ],
      "text/plain": [
       "          timeseries_step 1398606531743094 1398606531775866 1398606531808630  \\\n",
       "20141004                0              0.0              0.0              0.0   \n",
       "20150601                1             2.95             8.12            14.91   \n",
       "20150613                2            -8.52             9.88            -7.66   \n",
       "20150625                3            -5.99             2.67             5.27   \n",
       "20150707                4            -2.23            10.62            14.08   \n",
       "\n",
       "         1398606531808634 1398606531841402 1398606531874163 1398606531874169  \\\n",
       "20141004              0.0              0.0              0.0              0.0   \n",
       "20150601             5.49             1.84            -0.19             8.95   \n",
       "20150613             9.27            13.73           -18.68            -10.2   \n",
       "20150625             4.45            -3.49             0.74             0.07   \n",
       "20150707            -3.77             -2.8           -11.93            -4.34   \n",
       "\n",
       "         1398606531874170 1398606531906937  ... 1398881402716178  \\\n",
       "20141004              0.0              0.0  ...              0.0   \n",
       "20150601             7.56             6.86  ...             8.45   \n",
       "20150613            16.09            -6.57  ...            -2.17   \n",
       "20150625            -1.16             2.18  ...              8.4   \n",
       "20150707             9.97              1.3  ...             0.91   \n",
       "\n",
       "         1398881402716184 1398881402748953 1398881402748954 1398881402748965  \\\n",
       "20141004              0.0              0.0              0.0              0.0   \n",
       "20150601            -4.74            -2.57            -5.46            -7.02   \n",
       "20150613           -12.76           -16.66             6.32            -3.46   \n",
       "20150625            -16.0           -15.72             2.51            -9.06   \n",
       "20150707            -6.72            -5.11            -5.37           -10.19   \n",
       "\n",
       "         1398881402880022 1398881402880023 1398881402912790 1398881402912791  \\\n",
       "20141004              0.0              0.0              0.0              0.0   \n",
       "20150601              8.5             5.25             9.08           -11.27   \n",
       "20150613            -0.76             1.11              1.8           -11.55   \n",
       "20150625             8.51             3.11             7.55             5.17   \n",
       "20150707            -2.74            -2.22             0.96            -3.97   \n",
       "\n",
       "         1398881402912792  \n",
       "20141004              0.0  \n",
       "20150601            -8.61  \n",
       "20150613            -13.4  \n",
       "20150625           -11.96  \n",
       "20150707            -4.94  \n",
       "\n",
       "[5 rows x 29505 columns]"
      ]
     },
     "execution_count": 47,
     "metadata": {},
     "output_type": "execute_result"
    }
   ],
   "source": [
    "df.head(5)"
   ]
  },
  {
   "cell_type": "markdown",
   "id": "0d28dc8b-70f1-4d74-afef-38890f712543",
   "metadata": {},
   "source": [
    "Can we just do a simple linear regression on the data??"
   ]
  },
  {
   "cell_type": "code",
   "execution_count": null,
   "id": "7a19a2c8-f444-4de6-8b1b-2d7c461b1bcd",
   "metadata": {},
   "outputs": [],
   "source": [
    "from scipy import stats\n",
    "all_y_reg = []\n",
    "for i in range(1,len(df.columns)):\n",
    "    X = df.loc[:, ['timeseries_step']]  # features\n",
    "    y = df.iloc[:, i]  # target\n",
    "    x = X.values.squeeze()\n",
    "    x = x.astype(float)\n",
    "    y = y.values.astype(float)\n",
    "    res = stats.linregress(x, y)\n",
    "    all_y_reg.append(res)\n"
   ]
  },
  {
   "cell_type": "code",
   "execution_count": 49,
   "id": "ae06d45b-d7b6-4d06-ab8f-a845f7f8e31c",
   "metadata": {},
   "outputs": [
    {
     "data": {
      "text/plain": [
       "0.8866470996607636"
      ]
     },
     "execution_count": 49,
     "metadata": {},
     "output_type": "execute_result"
    }
   ],
   "source": [
    "# we want to check for the r value - the closer it is to 1 (or -1 if the correlation is negative), \n",
    "# the better the regression fit is.\n",
    "all_y_reg[1].intercept"
   ]
  },
  {
   "cell_type": "code",
   "execution_count": 50,
   "id": "0b38854e-3516-468a-84ce-be05f0358471",
   "metadata": {},
   "outputs": [
    {
     "data": {
      "text/plain": [
       "LinregressResult(slope=0.05103349726626839, intercept=0.8866470996607636, rvalue=0.3584498363672077, pvalue=2.8203879319248326e-05, stderr=0.01174786839476263, intercept_stderr=0.8766539312769664)"
      ]
     },
     "execution_count": 50,
     "metadata": {},
     "output_type": "execute_result"
    }
   ],
   "source": [
    "all_y_reg[1]"
   ]
  },
  {
   "cell_type": "code",
   "execution_count": 51,
   "id": "7dc46282-3599-4415-bd69-daf4e28f0eb4",
   "metadata": {},
   "outputs": [],
   "source": [
    "# note that the order follows thst of the dataframe columns\n",
    "all_rvalue = []\n",
    "all_slope_values = []\n",
    "all_intercept_values = []\n",
    "all_pvalue = []\n",
    "all_stderr = []\n",
    "all_intercept_stderr = []\n",
    "\n",
    "for i in range(len(all_y_reg)):\n",
    "    all_rvalue.append(all_y_reg[i].rvalue)\n",
    "    all_slope_values.append(all_y_reg[i].slope)\n",
    "    all_intercept_values.append(all_y_reg[i].intercept)\n",
    "    all_pvalue.append(all_y_reg[i].pvalue)\n",
    "    all_stderr.append(all_y_reg[i].stderr)\n",
    "    all_intercept_stderr.append(all_y_reg[i].intercept_stderr)\n",
    "\n",
    "    "
   ]
  },
  {
   "cell_type": "code",
   "execution_count": 54,
   "id": "1fe25437-6b62-458e-9c3c-63956c0ca84d",
   "metadata": {},
   "outputs": [],
   "source": [
    "# create a pandas dataframe with the r values and the same column names (point IDs) as the original dataframe\n",
    "df_all_rvalue = pd.DataFrame(all_rvalue)\n",
    "#df_all_rvalue = df_all_rvalue.T\n",
    "df_all_rvalue.index = full_gm_dataset.columns"
   ]
  },
  {
   "cell_type": "code",
   "execution_count": 55,
   "id": "65f7d732-eec3-4042-abec-78f7ee3bb93f",
   "metadata": {},
   "outputs": [],
   "source": [
    "df_all_rvalue['slope'] = all_slope_values"
   ]
  },
  {
   "cell_type": "code",
   "execution_count": 56,
   "id": "dd8706ad-db4f-4ac8-ab01-219944de7666",
   "metadata": {},
   "outputs": [],
   "source": [
    "df_all_rvalue['intercept'] = all_intercept_values\n",
    "df_all_rvalue['pvalue'] = all_pvalue\n",
    "df_all_rvalue['stderr'] = all_stderr\n",
    "df_all_rvalue['intercept_stderr'] = all_intercept_stderr\n",
    "df_all_rvalue = df_all_rvalue.rename(columns={0: 'rvalue'})"
   ]
  },
  {
   "cell_type": "code",
   "execution_count": 57,
   "id": "61842f51-319a-4909-9762-eb79cc266504",
   "metadata": {},
   "outputs": [],
   "source": [
    "df_all_rvalue.index.name = 'pid'"
   ]
  },
  {
   "cell_type": "code",
   "execution_count": 58,
   "id": "3e378142-5ab6-4a0d-b0ea-9cc336664ae1",
   "metadata": {},
   "outputs": [],
   "source": [
    "df.to_csv('timeseries_data_large_region.csv', index=True)"
   ]
  },
  {
   "cell_type": "code",
   "execution_count": 59,
   "id": "b4468451-b244-4351-a774-ff204cfdffe7",
   "metadata": {},
   "outputs": [],
   "source": [
    "# save all the values in a csv file \n",
    "\n",
    "df_all_rvalue.to_csv('regression_values_large_region.csv', index=True)\n"
   ]
  },
  {
   "cell_type": "code",
   "execution_count": 60,
   "id": "c59d995d-8beb-4172-ac07-74c0da009915",
   "metadata": {},
   "outputs": [],
   "source": [
    "df_linreg = df_all_rvalue"
   ]
  },
  {
   "cell_type": "code",
   "execution_count": 61,
   "id": "a27c0262-ec0b-4930-b02e-0ca0f0e3cadd",
   "metadata": {},
   "outputs": [
    {
     "data": {
      "text/plain": [
       "0.3480209112027619"
      ]
     },
     "execution_count": 61,
     "metadata": {},
     "output_type": "execute_result"
    }
   ],
   "source": [
    "df_linreg.rvalue.iloc[0]"
   ]
  },
  {
   "cell_type": "code",
   "execution_count": 62,
   "id": "5711ef23-0fb5-4388-9dcb-6c9b206c717c",
   "metadata": {},
   "outputs": [
    {
     "data": {
      "text/plain": [
       "1398606531743094"
      ]
     },
     "execution_count": 62,
     "metadata": {},
     "output_type": "execute_result"
    }
   ],
   "source": [
    "df_linreg.index[0]"
   ]
  },
  {
   "cell_type": "code",
   "execution_count": 63,
   "id": "72a55ae3-5606-4b95-9bc8-9ed098f89e2b",
   "metadata": {},
   "outputs": [],
   "source": [
    "linear_ascending = []\n",
    "linear_descending = []\n",
    "linear_constant = []\n",
    "irregular = []\n",
    "\n",
    "for i in range(len(df_linreg)):\n",
    "    if df_linreg.rvalue.iloc[i]>0.9:\n",
    "        linear_ascending.append(df_linreg.index[i])\n",
    "    elif df_linreg.rvalue.iloc[i]<-0.9:\n",
    "        linear_descending.append(df_linreg.index[i])\n",
    "    elif (df_linreg.rvalue.iloc[i]<0.025 and df_linreg.rvalue.iloc[i]>-0.025) and (-0.01<df_linreg.slope.iloc[i]<0.01):\n",
    "    #elif (-0.01<df_linreg.slope.iloc[i]<0.01):\n",
    "        linear_constant.append(df_linreg.index[i])\n",
    "    else:\n",
    "        irregular.append(df_linreg.index[i])"
   ]
  },
  {
   "cell_type": "code",
   "execution_count": 64,
   "id": "2ff119be-25ee-4008-88f1-c300944b5042",
   "metadata": {},
   "outputs": [
    {
     "name": "stdout",
     "output_type": "stream",
     "text": [
      "ascending: 55, descending: 1480,constant: 643, irregular:27326\n"
     ]
    }
   ],
   "source": [
    "print(f'ascending: {len(linear_ascending)}, descending: {len(linear_descending)},\\\n",
    "constant: {len(linear_constant)}, irregular:{len(irregular)}')"
   ]
  },
  {
   "cell_type": "code",
   "execution_count": 66,
   "id": "b12d8747-c6fb-4555-baff-a34a0e24dcc4",
   "metadata": {},
   "outputs": [],
   "source": [
    "df_all_rvalue['reg_type'] = \"\""
   ]
  },
  {
   "cell_type": "code",
   "execution_count": 67,
   "id": "fbe940fc-d680-416e-a52b-6f0b050b04c1",
   "metadata": {},
   "outputs": [
    {
     "name": "stderr",
     "output_type": "stream",
     "text": [
      "/tmp/ipykernel_976908/940306209.py:2: SettingWithCopyWarning: \n",
      "A value is trying to be set on a copy of a slice from a DataFrame\n",
      "\n",
      "See the caveats in the documentation: https://pandas.pydata.org/pandas-docs/stable/user_guide/indexing.html#returning-a-view-versus-a-copy\n",
      "  df_all_rvalue.reg_type.loc[linear_ascending[i]] = 'ascending'\n"
     ]
    }
   ],
   "source": [
    "for i in range(len(linear_ascending)):\n",
    "    df_all_rvalue.reg_type.loc[linear_ascending[i]] = 'ascending'"
   ]
  },
  {
   "cell_type": "code",
   "execution_count": 68,
   "id": "45f9616b-fdad-48b2-84c7-2d48bf2d89d8",
   "metadata": {},
   "outputs": [
    {
     "name": "stderr",
     "output_type": "stream",
     "text": [
      "/tmp/ipykernel_976908/2814639489.py:2: SettingWithCopyWarning: \n",
      "A value is trying to be set on a copy of a slice from a DataFrame\n",
      "\n",
      "See the caveats in the documentation: https://pandas.pydata.org/pandas-docs/stable/user_guide/indexing.html#returning-a-view-versus-a-copy\n",
      "  df_all_rvalue.reg_type.loc[linear_descending[i]] = 'descending'\n"
     ]
    }
   ],
   "source": [
    "for i in range(len(linear_descending)):\n",
    "    df_all_rvalue.reg_type.loc[linear_descending[i]] = 'descending'"
   ]
  },
  {
   "cell_type": "code",
   "execution_count": 69,
   "id": "7a2ffe42-351d-4b0e-9955-5232eac177ba",
   "metadata": {},
   "outputs": [
    {
     "name": "stderr",
     "output_type": "stream",
     "text": [
      "/tmp/ipykernel_976908/94681015.py:2: SettingWithCopyWarning: \n",
      "A value is trying to be set on a copy of a slice from a DataFrame\n",
      "\n",
      "See the caveats in the documentation: https://pandas.pydata.org/pandas-docs/stable/user_guide/indexing.html#returning-a-view-versus-a-copy\n",
      "  df_all_rvalue.reg_type.loc[linear_constant[i]] = 'constant'\n"
     ]
    }
   ],
   "source": [
    "for i in range(len(linear_constant)):\n",
    "    df_all_rvalue.reg_type.loc[linear_constant[i]] = 'constant'"
   ]
  },
  {
   "cell_type": "code",
   "execution_count": 70,
   "id": "73626125-0dec-4f05-82ba-1a34d4582307",
   "metadata": {},
   "outputs": [
    {
     "name": "stderr",
     "output_type": "stream",
     "text": [
      "/tmp/ipykernel_976908/724804538.py:2: SettingWithCopyWarning: \n",
      "A value is trying to be set on a copy of a slice from a DataFrame\n",
      "\n",
      "See the caveats in the documentation: https://pandas.pydata.org/pandas-docs/stable/user_guide/indexing.html#returning-a-view-versus-a-copy\n",
      "  df_all_rvalue.reg_type.loc[irregular[i]] = 'irregular'\n"
     ]
    }
   ],
   "source": [
    "for i in range(len(irregular)):\n",
    "    df_all_rvalue.reg_type.loc[irregular[i]] = 'irregular'"
   ]
  },
  {
   "cell_type": "code",
   "execution_count": 71,
   "id": "202b1ef3-6f92-4560-86e4-df18275a14ea",
   "metadata": {},
   "outputs": [],
   "source": [
    "df_all_rvalue.to_csv('regression_values_large_region.csv')"
   ]
  },
  {
   "cell_type": "code",
   "execution_count": 75,
   "id": "df059f80-ed72-477a-8353-d4467704f303",
   "metadata": {},
   "outputs": [
    {
     "data": {
      "text/plain": [
       "[<matplotlib.lines.Line2D at 0x7fddd0181f00>]"
      ]
     },
     "execution_count": 75,
     "metadata": {},
     "output_type": "execute_result"
    },
    {
     "data": {
      "image/png": "[encoded data removed]",
      "text/plain": [
       "<Figure size 432x288 with 1 Axes>"
      ]
     },
     "metadata": {
      "needs_background": "light"
     },
     "output_type": "display_data"
    }
   ],
   "source": [
    "#ascending example\n",
    "plt.plot(gm_csv_t_dates.index, gm_csv_t_dates[linear_ascending[0]])\n",
    "#plt.plot(gm_csv_t_dates.index, )"
   ]
  },
  {
   "cell_type": "code",
   "execution_count": 73,
   "id": "6928734b-f32d-46a0-9140-149895589ecf",
   "metadata": {},
   "outputs": [
    {
     "data": {
      "text/plain": [
       "[<matplotlib.lines.Line2D at 0x7fddd025d630>]"
      ]
     },
     "execution_count": 73,
     "metadata": {},
     "output_type": "execute_result"
    },
    {
     "data": {
      "image/png": "[encoded data removed]",
      "text/plain": [
       "<Figure size 432x288 with 1 Axes>"
      ]
     },
     "metadata": {
      "needs_background": "light"
     },
     "output_type": "display_data"
    }
   ],
   "source": [
    "plt.plot(gm_csv_t_dates.index, gm_csv_t_dates[linear_descending[0]])\n"
   ]
  },
  {
   "cell_type": "code",
   "execution_count": 74,
   "id": "1ef1591c-d869-4326-b37b-fc1cc9782228",
   "metadata": {},
   "outputs": [
    {
     "data": {
      "text/plain": [
       "[<matplotlib.lines.Line2D at 0x7fddd0506b00>]"
      ]
     },
     "execution_count": 74,
     "metadata": {},
     "output_type": "execute_result"
    },
    {
     "data": {
      "image/png": "[encoded data removed]",
      "text/plain": [
       "<Figure size 432x288 with 1 Axes>"
      ]
     },
     "metadata": {
      "needs_background": "light"
     },
     "output_type": "display_data"
    }
   ],
   "source": [
    "plt.plot(gm_csv_t_dates.index, gm_csv_t_dates[linear_constant[0]])\n"
   ]
  },
  {
   "cell_type": "code",
   "execution_count": 76,
   "id": "70d66a93-e9b2-4c14-b56b-65f0ba9f09cb",
   "metadata": {},
   "outputs": [
    {
     "data": {
      "text/plain": [
       "[<matplotlib.lines.Line2D at 0x7fddd01eb190>]"
      ]
     },
     "execution_count": 76,
     "metadata": {},
     "output_type": "execute_result"
    },
    {
     "data": {
      "image/png": "[encoded data removed]",
      "text/plain": [
       "<Figure size 432x288 with 1 Axes>"
      ]
     },
     "metadata": {
      "needs_background": "light"
     },
     "output_type": "display_data"
    }
   ],
   "source": [
    "plt.plot(gm_csv_t_dates.index, gm_csv_t_dates[irregular[110]])\n"
   ]
  },
  {
   "cell_type": "code",
   "execution_count": 276,
   "id": "97a729cc-14d0-42de-a3ed-45d3730242f3",
   "metadata": {},
   "outputs": [
    {
     "data": {
      "text/html": [
       "<div>\n",
       "<style scoped>\n",
       "    .dataframe tbody tr th:only-of-type {\n",
       "        vertical-align: middle;\n",
       "    }\n",
       "\n",
       "    .dataframe tbody tr th {\n",
       "        vertical-align: top;\n",
       "    }\n",
       "\n",
       "    .dataframe thead th {\n",
       "        text-align: right;\n",
       "    }\n",
       "</style>\n",
       "<table border=\"1\" class=\"dataframe\">\n",
       "  <thead>\n",
       "    <tr style=\"text-align: right;\">\n",
       "      <th></th>\n",
       "      <th>1398606531743094</th>\n",
       "      <th>1398606531775866</th>\n",
       "      <th>1398606531808630</th>\n",
       "      <th>1398606531808634</th>\n",
       "      <th>1398606531841402</th>\n",
       "      <th>1398606531874163</th>\n",
       "      <th>1398606531874169</th>\n",
       "      <th>1398606531874170</th>\n",
       "      <th>1398606531906937</th>\n",
       "      <th>1398606531906938</th>\n",
       "      <th>...</th>\n",
       "      <th>1398606540229919</th>\n",
       "      <th>1398606540262687</th>\n",
       "      <th>1398606540262688</th>\n",
       "      <th>1398606540262691</th>\n",
       "      <th>1398606540295456</th>\n",
       "      <th>1398606540295458</th>\n",
       "      <th>1398606540295459</th>\n",
       "      <th>1398606540328228</th>\n",
       "      <th>1398606540360995</th>\n",
       "      <th>1398606540360996</th>\n",
       "    </tr>\n",
       "  </thead>\n",
       "  <tbody>\n",
       "    <tr>\n",
       "      <th>20141004</th>\n",
       "      <td>0.0</td>\n",
       "      <td>0.0</td>\n",
       "      <td>0.0</td>\n",
       "      <td>0.0</td>\n",
       "      <td>0.0</td>\n",
       "      <td>0.0</td>\n",
       "      <td>0.0</td>\n",
       "      <td>0.0</td>\n",
       "      <td>0.0</td>\n",
       "      <td>0.0</td>\n",
       "      <td>...</td>\n",
       "      <td>0.0</td>\n",
       "      <td>0.0</td>\n",
       "      <td>0.0</td>\n",
       "      <td>0.0</td>\n",
       "      <td>0.0</td>\n",
       "      <td>0.0</td>\n",
       "      <td>0.0</td>\n",
       "      <td>0.0</td>\n",
       "      <td>0.0</td>\n",
       "      <td>0.0</td>\n",
       "    </tr>\n",
       "    <tr>\n",
       "      <th>20150601</th>\n",
       "      <td>2.95</td>\n",
       "      <td>8.12</td>\n",
       "      <td>14.91</td>\n",
       "      <td>5.49</td>\n",
       "      <td>1.84</td>\n",
       "      <td>-0.19</td>\n",
       "      <td>8.95</td>\n",
       "      <td>7.56</td>\n",
       "      <td>6.86</td>\n",
       "      <td>4.6</td>\n",
       "      <td>...</td>\n",
       "      <td>-3.25</td>\n",
       "      <td>5.33</td>\n",
       "      <td>-7.09</td>\n",
       "      <td>-12.46</td>\n",
       "      <td>-3.85</td>\n",
       "      <td>3.99</td>\n",
       "      <td>-11.58</td>\n",
       "      <td>3.79</td>\n",
       "      <td>4.89</td>\n",
       "      <td>2.12</td>\n",
       "    </tr>\n",
       "    <tr>\n",
       "      <th>20150613</th>\n",
       "      <td>-8.52</td>\n",
       "      <td>9.88</td>\n",
       "      <td>-7.66</td>\n",
       "      <td>9.27</td>\n",
       "      <td>13.73</td>\n",
       "      <td>-18.68</td>\n",
       "      <td>-10.2</td>\n",
       "      <td>16.09</td>\n",
       "      <td>-6.57</td>\n",
       "      <td>10.78</td>\n",
       "      <td>...</td>\n",
       "      <td>2.52</td>\n",
       "      <td>7.0</td>\n",
       "      <td>2.14</td>\n",
       "      <td>-1.66</td>\n",
       "      <td>3.09</td>\n",
       "      <td>3.22</td>\n",
       "      <td>2.35</td>\n",
       "      <td>-2.13</td>\n",
       "      <td>4.16</td>\n",
       "      <td>-1.61</td>\n",
       "    </tr>\n",
       "    <tr>\n",
       "      <th>20150625</th>\n",
       "      <td>-5.99</td>\n",
       "      <td>2.67</td>\n",
       "      <td>5.27</td>\n",
       "      <td>4.45</td>\n",
       "      <td>-3.49</td>\n",
       "      <td>0.74</td>\n",
       "      <td>0.07</td>\n",
       "      <td>-1.16</td>\n",
       "      <td>2.18</td>\n",
       "      <td>-3.05</td>\n",
       "      <td>...</td>\n",
       "      <td>-4.6</td>\n",
       "      <td>-1.0</td>\n",
       "      <td>-10.65</td>\n",
       "      <td>-13.19</td>\n",
       "      <td>-13.43</td>\n",
       "      <td>-7.36</td>\n",
       "      <td>-9.88</td>\n",
       "      <td>-1.87</td>\n",
       "      <td>5.12</td>\n",
       "      <td>-3.3</td>\n",
       "    </tr>\n",
       "    <tr>\n",
       "      <th>20150707</th>\n",
       "      <td>-2.23</td>\n",
       "      <td>10.62</td>\n",
       "      <td>14.08</td>\n",
       "      <td>-3.77</td>\n",
       "      <td>-2.8</td>\n",
       "      <td>-11.93</td>\n",
       "      <td>-4.34</td>\n",
       "      <td>9.97</td>\n",
       "      <td>1.3</td>\n",
       "      <td>5.52</td>\n",
       "      <td>...</td>\n",
       "      <td>-2.53</td>\n",
       "      <td>2.77</td>\n",
       "      <td>-3.14</td>\n",
       "      <td>-3.77</td>\n",
       "      <td>-1.31</td>\n",
       "      <td>1.07</td>\n",
       "      <td>0.06</td>\n",
       "      <td>1.35</td>\n",
       "      <td>2.47</td>\n",
       "      <td>2.75</td>\n",
       "    </tr>\n",
       "  </tbody>\n",
       "</table>\n",
       "<p>5 rows × 16966 columns</p>\n",
       "</div>"
      ],
      "text/plain": [
       "         1398606531743094 1398606531775866 1398606531808630 1398606531808634  \\\n",
       "20141004              0.0              0.0              0.0              0.0   \n",
       "20150601             2.95             8.12            14.91             5.49   \n",
       "20150613            -8.52             9.88            -7.66             9.27   \n",
       "20150625            -5.99             2.67             5.27             4.45   \n",
       "20150707            -2.23            10.62            14.08            -3.77   \n",
       "\n",
       "         1398606531841402 1398606531874163 1398606531874169 1398606531874170  \\\n",
       "20141004              0.0              0.0              0.0              0.0   \n",
       "20150601             1.84            -0.19             8.95             7.56   \n",
       "20150613            13.73           -18.68            -10.2            16.09   \n",
       "20150625            -3.49             0.74             0.07            -1.16   \n",
       "20150707             -2.8           -11.93            -4.34             9.97   \n",
       "\n",
       "         1398606531906937 1398606531906938  ... 1398606540229919  \\\n",
       "20141004              0.0              0.0  ...              0.0   \n",
       "20150601             6.86              4.6  ...            -3.25   \n",
       "20150613            -6.57            10.78  ...             2.52   \n",
       "20150625             2.18            -3.05  ...             -4.6   \n",
       "20150707              1.3             5.52  ...            -2.53   \n",
       "\n",
       "         1398606540262687 1398606540262688 1398606540262691 1398606540295456  \\\n",
       "20141004              0.0              0.0              0.0              0.0   \n",
       "20150601             5.33            -7.09           -12.46            -3.85   \n",
       "20150613              7.0             2.14            -1.66             3.09   \n",
       "20150625             -1.0           -10.65           -13.19           -13.43   \n",
       "20150707             2.77            -3.14            -3.77            -1.31   \n",
       "\n",
       "         1398606540295458 1398606540295459 1398606540328228 1398606540360995  \\\n",
       "20141004              0.0              0.0              0.0              0.0   \n",
       "20150601             3.99           -11.58             3.79             4.89   \n",
       "20150613             3.22             2.35            -2.13             4.16   \n",
       "20150625            -7.36            -9.88            -1.87             5.12   \n",
       "20150707             1.07             0.06             1.35             2.47   \n",
       "\n",
       "         1398606540360996  \n",
       "20141004              0.0  \n",
       "20150601             2.12  \n",
       "20150613            -1.61  \n",
       "20150625             -3.3  \n",
       "20150707             2.75  \n",
       "\n",
       "[5 rows x 16966 columns]"
      ]
     },
     "execution_count": 276,
     "metadata": {},
     "output_type": "execute_result"
    }
   ],
   "source": [
    "gm_csv_t_dates.head()"
   ]
  },
  {
   "cell_type": "code",
   "execution_count": 38,
   "id": "f5cc9b6c-8750-4cac-b9ec-b61b039355db",
   "metadata": {},
   "outputs": [
    {
     "data": {
      "text/plain": [
       "[<matplotlib.lines.Line2D at 0x7f38a466dbd0>]"
      ]
     },
     "execution_count": 38,
     "metadata": {},
     "output_type": "execute_result"
    },
    {
     "data": {
      "image/png": "[encoded data removed]",
      "text/plain": [
       "<Figure size 432x288 with 1 Axes>"
      ]
     },
     "metadata": {
      "needs_background": "light"
     },
     "output_type": "display_data"
    }
   ],
   "source": [
    "plt.plot(gm_csv_t_dates.iloc[:,534])"
   ]
  },
  {
   "cell_type": "code",
   "execution_count": 39,
   "id": "f7ef3794-a8e3-4bb6-be17-3fc6b871ddfe",
   "metadata": {},
   "outputs": [],
   "source": [
    "import scipy.fft\n",
    "# fourier transform decomposition to analise seasonality trends\n",
    "# take only the first row of our timeseries\n",
    "sp = scipy.fft.fft((gm_csv_t_dates.iloc[:,534]))"
   ]
  },
  {
   "cell_type": "code",
   "execution_count": 26,
   "id": "a55b4942-f6e4-4b64-8715-6dffd97e82b9",
   "metadata": {},
   "outputs": [
    {
     "data": {
      "text/plain": [
       "65"
      ]
     },
     "execution_count": 26,
     "metadata": {},
     "output_type": "execute_result"
    }
   ],
   "source": [
    "len(sp[:N//2])"
   ]
  },
  {
   "cell_type": "code",
   "execution_count": 27,
   "id": "1ceffad1-b075-4b7c-9cd6-54b0421d5313",
   "metadata": {},
   "outputs": [
    {
     "data": {
      "text/plain": [
       "65"
      ]
     },
     "execution_count": 27,
     "metadata": {},
     "output_type": "execute_result"
    }
   ],
   "source": [
    "130//2"
   ]
  },
  {
   "cell_type": "code",
   "execution_count": 40,
   "id": "15ce1732-dd59-4e8e-9d22-086dbd55fd31",
   "metadata": {},
   "outputs": [
    {
     "data": {
      "image/png": "[encoded data removed]",
      "text/plain": [
       "<Figure size 432x288 with 1 Axes>"
      ]
     },
     "metadata": {
      "needs_background": "light"
     },
     "output_type": "display_data"
    }
   ],
   "source": [
    "N = len(gm_csv_t_dates)\n",
    "fig, ax = plt.subplots()\n",
    "ax.plot(gm_csv_t_dates.index, 2.0/N * np.abs(sp[:N]))\n",
    "plt.show()"
   ]
  },
  {
   "cell_type": "code",
   "execution_count": 57,
   "id": "b6f062b8-996c-46ab-be27-fe7602684801",
   "metadata": {},
   "outputs": [],
   "source": [
    "import datetime\n",
    "dates = pd.to_datetime(gm_csv_t_dates.index)"
   ]
  },
  {
   "cell_type": "code",
   "execution_count": 61,
   "id": "fa0b9fa0-d54d-497a-8546-37a136217bab",
   "metadata": {},
   "outputs": [],
   "source": [
    "all_delta = []\n",
    "for i in range(len(dates)-1):\n",
    "    d0 = dates[i]\n",
    "    d1 = dates[i+1]\n",
    "    delta = d1 - d0\n",
    "    all_delta.append(delta)\n"
   ]
  },
  {
   "cell_type": "code",
   "execution_count": 65,
   "id": "74d29873-bcdd-4767-b648-16a03b9e5e3b",
   "metadata": {},
   "outputs": [
    {
     "ename": "TypeError",
     "evalue": "plot_date() missing 1 required positional argument: 'y'",
     "output_type": "error",
     "traceback": [
      "\u001b[0;31m---------------------------------------------------------------------------\u001b[0m",
      "\u001b[0;31mTypeError\u001b[0m                                 Traceback (most recent call last)",
      "Input \u001b[0;32mIn [65]\u001b[0m, in \u001b[0;36m<module>\u001b[0;34m\u001b[0m\n\u001b[0;32m----> 1\u001b[0m \u001b[43mplt\u001b[49m\u001b[38;5;241;43m.\u001b[39;49m\u001b[43mplot_date\u001b[49m\u001b[43m(\u001b[49m\u001b[43mall_delta\u001b[49m\u001b[43m)\u001b[49m\n",
      "\u001b[0;31mTypeError\u001b[0m: plot_date() missing 1 required positional argument: 'y'"
     ]
    }
   ],
   "source": [
    "plt.plot_date(all_delta)"
   ]
  },
  {
   "cell_type": "code",
   "execution_count": 63,
   "id": "a8b8ce64-5748-4c49-9073-ab5a25903ef9",
   "metadata": {},
   "outputs": [
    {
     "ename": "TypeError",
     "evalue": "int() argument must be a string, a bytes-like object or a real number, not 'list'",
     "output_type": "error",
     "traceback": [
      "\u001b[0;31m---------------------------------------------------------------------------\u001b[0m",
      "\u001b[0;31mTypeError\u001b[0m                                 Traceback (most recent call last)",
      "Input \u001b[0;32mIn [63]\u001b[0m, in \u001b[0;36m<module>\u001b[0;34m\u001b[0m\n\u001b[0;32m----> 1\u001b[0m plt\u001b[38;5;241m.\u001b[39mhist(\u001b[38;5;28;43mint\u001b[39;49m\u001b[43m(\u001b[49m\u001b[43mall_delta\u001b[49m\u001b[43m)\u001b[49m)\n",
      "\u001b[0;31mTypeError\u001b[0m: int() argument must be a string, a bytes-like object or a real number, not 'list'"
     ]
    }
   ],
   "source": [
    "plt.hist(int(all_delta))"
   ]
  },
  {
   "cell_type": "code",
   "execution_count": 85,
   "id": "5061fd1b-908d-4ce8-9322-1c1d6bc6e26b",
   "metadata": {},
   "outputs": [
    {
     "data": {
      "image/png": "[encoded data removed]",
      "text/plain": [
       "<Figure size 1080x504 with 1 Axes>"
      ]
     },
     "metadata": {
      "needs_background": "light"
     },
     "output_type": "display_data"
    }
   ],
   "source": [
    "# fig = plt.gcf()\n",
    "# fig.set_size_inches(18.5, 10.5)\n",
    "# plt.plot(gm_csv_t_dates.iloc[:20,534],'.-')\n",
    "\n",
    "\n",
    "import matplotlib.pyplot as plt\n",
    "import numpy as np\n",
    "import datetime\n",
    "from matplotlib import dates as mdates\n",
    "\n",
    "# Using Data from OP: tp_pass and azip_pass\n",
    "\n",
    "# Creating your plot\n",
    "\n",
    "fig, ax=plt.subplots(1, 1, figsize=(15, 7))\n",
    "\n",
    "#ax.set_ylim(-185, 185)\n",
    "ax.scatter(dates, gm_csv_t_dates.iloc[:,534], color=\"b\", alpha=1.0, ec=\"k\")\n",
    "\n",
    "# Minor ticks every month.\n",
    "fmt_month = mdates.MonthLocator()\n",
    "# Minor ticks every year.\n",
    "fmt_year = mdates.YearLocator()\n",
    "\n",
    "ax.xaxis.set_minor_locator(fmt_month)\n",
    "# '%b' to get the names of the month\n",
    "ax.xaxis.set_minor_formatter(mdates.DateFormatter('%m'))\n",
    "ax.xaxis.set_major_locator(fmt_year)\n",
    "ax.xaxis.set_major_formatter(mdates.DateFormatter('%m'))\n",
    "\n",
    "# fontsize for month labels\n",
    "ax.tick_params(labelsize=7, which='both')\n",
    "# create a second x-axis beneath the first x-axis to show the year in YYYY format\n",
    "sec_xaxis = ax.secondary_xaxis(-0.1)\n",
    "sec_xaxis.xaxis.set_major_locator(fmt_year)\n",
    "sec_xaxis.xaxis.set_major_formatter(mdates.DateFormatter('%Y'))\n",
    "\n",
    "# Hide the second x-axis spines and ticks\n",
    "sec_xaxis.spines['bottom'].set_visible(False)\n",
    "sec_xaxis.tick_params(length=0, labelsize=10)\n",
    "\n",
    "#plt.yticks([-180, -120, -60, 0, 60, 120, 180], [\"${}^\\circ$\".format(x) for x in [-180, -120, -60, 0, 60, 120, 180]], fontsize=35)\n",
    "plt.tight_layout()\n",
    "plt.show()"
   ]
  },
  {
   "cell_type": "code",
   "execution_count": null,
   "id": "468f9308-ab2c-4a81-a140-0cee16c4d894",
   "metadata": {},
   "outputs": [],
   "source": []
  }
 ],
 "metadata": {
  "kernelspec": {
   "display_name": "Python 3 (ipykernel)",
   "language": "python",
   "name": "python3"
  },
  "language_info": {
   "codemirror_mode": {
    "name": "ipython",
    "version": 3
   },
   "file_extension": ".py",
   "mimetype": "text/x-python",
   "name": "python",
   "nbconvert_exporter": "python",
   "pygments_lexer": "ipython3",
   "version": "3.10.2"
  }
 },
 "nbformat": 4,
 "nbformat_minor": 5
}
