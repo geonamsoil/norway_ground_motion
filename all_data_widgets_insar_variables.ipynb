{
 "cells": [
  {
   "cell_type": "markdown",
   "id": "ad817306-8961-4f01-8652-b1fa83c10c02",
   "metadata": {
    "tags": []
   },
   "source": [
    "# Map distribution of InSAR variables\n",
    "\n",
    "Using the full combined dataset with the IW1 and IW2 data, plot how the different variables that are defined in the InSAR characteristic are distributed spatially.\n",
    "\n",
    "VARIABLES: 'pid', 'track', 'mode', 'burst', 'line', 'pixel', 'latitude',\n",
    "'longitude', 'height', 'height_wgs84', 'mean_velocity', 'rmse',\n",
    "'temporal_coherence', 'amplitude_quality', 'pixel.1', 'line.1',\n",
    "'incidence_angle', 'track_angle', 'los_east', 'los_north', 'los_up'"
   ]
  },
  {
   "cell_type": "code",
   "execution_count": null,
   "id": "cf5b57dd-aec7-4804-87c6-26fa0cb25af1",
   "metadata": {},
   "outputs": [],
   "source": [
    "import numpy as np\n",
    "import pandas as pd\n",
    "import geopandas as gpd\n",
    "import matplotlib.pyplot as plt\n",
    "from ipywidgets import *\n"
   ]
  },
  {
   "cell_type": "code",
   "execution_count": null,
   "id": "fb400bd4-025c-4bcc-819a-367c8950c33b",
   "metadata": {},
   "outputs": [],
   "source": [
    "gm_csv = pd.read_csv('timeseries_data_large_region.csv')\n",
    "gm_csv.rename(columns={gm_csv.columns[0]: \"date\" }, inplace = True)\n",
    "gm_csv.set_index('date', inplace=True)"
   ]
  },
  {
   "cell_type": "code",
   "execution_count": null,
   "id": "e40bdb62-85c4-4e68-9e48-2a7ffa78474d",
   "metadata": {},
   "outputs": [],
   "source": [
    "gm_reg = pd.read_csv('regression_values_large_region.csv')\n",
    "gm_reg.set_index('pid', inplace=True)"
   ]
  },
  {
   "cell_type": "code",
   "execution_count": null,
   "id": "50d7c1fe-38fe-4070-84c8-a99684059db9",
   "metadata": {},
   "outputs": [],
   "source": [
    "# get the widget working \n",
    "#full_gm_data = pd.read_csv('./tmp/160-IW1-414-s1-asc1-v2020.csv')\n",
    "#full_gm_data.rename(columns=lambda x: x.strip(), inplace=True)"
   ]
  },
  {
   "cell_type": "code",
   "execution_count": null,
   "id": "5c48983e-7d87-49be-b17b-85fdb0c282c0",
   "metadata": {},
   "outputs": [],
   "source": [
    "gm_csv = pd.read_csv('./tmp/160-IW1-414-s1-asc1-v2020.csv')\n",
    "# remove whitespaces from column names \n",
    "gm_csv.rename(columns=lambda x: x.strip(), inplace=True)\n",
    "#transposer - rowes are columns and vice versa"
   ]
  },
  {
   "cell_type": "code",
   "execution_count": null,
   "id": "87bd38f2-e032-4ba5-a968-cabe07100ca6",
   "metadata": {},
   "outputs": [],
   "source": [
    "gm_csv.head(5)"
   ]
  },
  {
   "cell_type": "code",
   "execution_count": null,
   "id": "edef3dfb-0551-4a00-9bee-ea1fe516e896",
   "metadata": {},
   "outputs": [],
   "source": [
    "gm_csv_2 = pd.read_csv('./tmp2/160-IW2-414-s1-asc1-v2020.csv')\n",
    "# remove whitespaces from column names \n",
    "gm_csv_2.rename(columns=lambda x: x.strip(), inplace=True)\n",
    "#transposer - rowes are columns and vice versa"
   ]
  },
  {
   "cell_type": "code",
   "execution_count": null,
   "id": "0747adf2-beb3-4d98-8140-77d3ad3101fe",
   "metadata": {},
   "outputs": [],
   "source": [
    "gm_csv_2.head(5)"
   ]
  },
  {
   "cell_type": "code",
   "execution_count": null,
   "id": "927f9444-9a63-4e20-86ec-174c9a9e277f",
   "metadata": {},
   "outputs": [],
   "source": [
    "full_gm_data = pd.concat([gm_csv, gm_csv_2], axis=0)"
   ]
  },
  {
   "cell_type": "code",
   "execution_count": null,
   "id": "b14f5cf7-5d30-4413-ba08-c2b5a67254ab",
   "metadata": {},
   "outputs": [],
   "source": [
    "gm_lat = full_gm_data['latitude'].to_list()\n",
    "gm_lon = full_gm_data['longitude'].to_list()\n",
    "pid = full_gm_data['pid'].to_list()"
   ]
  },
  {
   "cell_type": "code",
   "execution_count": null,
   "id": "b1117bb9-5c8b-4727-a180-5d2ca36924e4",
   "metadata": {},
   "outputs": [],
   "source": [
    "gm_lat_lon = pd.DataFrame({'latitude':gm_lat, 'longitude':gm_lon})\n",
    "gm_lat_lon.index = pid"
   ]
  },
  {
   "cell_type": "code",
   "execution_count": null,
   "id": "d86d127e-14d1-4a75-884f-00b61a2af5c4",
   "metadata": {},
   "outputs": [],
   "source": [
    "full_gm_data['latitude'] = gm_lat"
   ]
  },
  {
   "cell_type": "code",
   "execution_count": null,
   "id": "7939f3c2-5a98-442d-96d2-314c9521aa97",
   "metadata": {},
   "outputs": [],
   "source": [
    "full_gm_data['longitude'] = gm_lon"
   ]
  },
  {
   "cell_type": "code",
   "execution_count": null,
   "id": "b3623afc-a6b0-4337-8fa8-39b9eff0d4bb",
   "metadata": {},
   "outputs": [],
   "source": [
    "full_gm_data['reg_type'] = gm_reg['reg_type'].to_list()"
   ]
  },
  {
   "cell_type": "code",
   "execution_count": null,
   "id": "d69c8f4a-6cb4-44d8-96e1-dd86b1c17a0b",
   "metadata": {},
   "outputs": [],
   "source": [
    "mapping = {'ascending': 1, 'descending': 2, 'constant': 3, 'irregular': 4}\n",
    "\n",
    "full_gm_data.replace({'reg_type': mapping}, inplace=True)"
   ]
  },
  {
   "cell_type": "code",
   "execution_count": null,
   "id": "fe5af8f6-cba1-4109-8552-5549d4ea2792",
   "metadata": {},
   "outputs": [],
   "source": [
    "full_gm_data.index = pid"
   ]
  },
  {
   "cell_type": "code",
   "execution_count": null,
   "id": "ce3e557c-0e2c-4424-8ea0-88c91935675d",
   "metadata": {},
   "outputs": [],
   "source": [
    "list_pid = full_gm_data['latitude'].to_list()"
   ]
  },
  {
   "cell_type": "code",
   "execution_count": null,
   "id": "7a4b688c-aee4-4c8a-97e8-a0c730534ec0",
   "metadata": {},
   "outputs": [],
   "source": [
    "array_pid = np.asarray(list_pid)"
   ]
  },
  {
   "cell_type": "code",
   "execution_count": null,
   "id": "7048c3ee-ee96-4227-8917-53dfd0a4f789",
   "metadata": {},
   "outputs": [],
   "source": [
    "len(np.unique(array_pid))"
   ]
  },
  {
   "cell_type": "code",
   "execution_count": null,
   "id": "28335ea0-f04a-4821-a64b-e39fd6c7f56a",
   "metadata": {},
   "outputs": [],
   "source": [
    "import folium\n",
    "import branca.colormap as cm\n",
    "#create a map\n",
    "this_map = folium.Map(prefer_canvas=True)\n",
    "\n",
    "#create a color map\n",
    "color_var = 'reg_type' #what variable will determine the color\n",
    "cmap = cm.LinearColormap(['black', 'red', 'green', 'orange'],\n",
    "                         vmin=full_gm_data[color_var].min(), vmax=full_gm_data[color_var].max(),\n",
    "                         caption = color_var)\n",
    "\n",
    "#Add the color map legend to your map\n",
    "this_map.add_child(cmap)\n",
    "\n",
    "def plotDot(point):\n",
    "    '''input: series that contains a numeric named latitude and a numeric named longitude\n",
    "    this function creates a CircleMarker and adds it to your this_map'''\n",
    "    folium.CircleMarker(location=[point.latitude, point.longitude],\n",
    "                        fill_color=cmap(point[color_var]),\n",
    "                        radius=2,\n",
    "                        weight=0).add_to(this_map)\n",
    "\n",
    "#use df.apply(,axis=1) to iterate through every row in your dataframe\n",
    "full_gm_data.apply(plotDot, axis = 1)\n",
    "\n",
    "#Set the zoom to the maximum possible\n",
    "this_map.fit_bounds(this_map.get_bounds())\n",
    "\n",
    "#Save the map to an HTML file\n",
    "this_map.save(os.path.join('figures/reg_type.html'))\n",
    "\n",
    "\n",
    "this_map\n",
    "\n"
   ]
  },
  {
   "cell_type": "code",
   "execution_count": null,
   "id": "911e9853-e1be-4779-9f3b-9ba6e3afa8c6",
   "metadata": {},
   "outputs": [],
   "source": [
    "full_gm_data.columns[:21]"
   ]
  },
  {
   "cell_type": "code",
   "execution_count": null,
   "id": "0704ee7e-1d02-408a-9f28-5af2abdd70c6",
   "metadata": {},
   "outputs": [],
   "source": [
    "import folium\n",
    "import branca.colormap as cm\n",
    "#create a map\n",
    "this_map = folium.Map(prefer_canvas=True)\n",
    "\n",
    "#create a color map\n",
    "color_var = 'amplitude_quality' #what variable will determine the color\n",
    "cmap = cm.LinearColormap(['cyan', 'red'],\n",
    "                         vmin=full_gm_data[color_var].min(), vmax=full_gm_data[color_var].max(),\n",
    "                         caption = color_var)\n",
    "\n",
    "#Add the color map legend to your map\n",
    "this_map.add_child(cmap)\n",
    "\n",
    "def plotDot(point):\n",
    "    '''input: series that contains a numeric named latitude and a numeric named longitude\n",
    "    this function creates a CircleMarker and adds it to your this_map'''\n",
    "    folium.CircleMarker(location=[point.latitude, point.longitude],\n",
    "                        fill_color=cmap(point[color_var]),\n",
    "                        radius=2,\n",
    "                        weight=0).add_to(this_map)\n",
    "\n",
    "#use df.apply(,axis=1) to iterate through every row in your dataframe\n",
    "full_gm_data.apply(plotDot, axis = 1)\n",
    "\n",
    "#Set the zoom to the maximum possible\n",
    "this_map.fit_bounds(this_map.get_bounds())\n",
    "\n",
    "#Save the map to an HTML file\n",
    "this_map.save(os.path.join('figures/amplitude_quality.html'))\n",
    "\n",
    "\n",
    "this_map\n",
    "\n"
   ]
  },
  {
   "cell_type": "markdown",
   "id": "1022f3f6-3647-4a5b-bda1-84fb3e85d66d",
   "metadata": {},
   "source": [
    "https://www.ngu.no/en/topic/description-parameters\n",
    "\n",
    "'pid', 'track', 'mode', 'burst', 'line', 'pixel', 'latitude',\n",
    "       'longitude', 'height', 'height_wgs84', 'mean_velocity', 'rmse',\n",
    "       'temporal_coherence', 'amplitude_quality', 'pixel.1', 'line.1',\n",
    "       'incidence_angle', 'track_angle', 'los_east', 'los_north', 'los_up'"
   ]
  },
  {
   "cell_type": "code",
   "execution_count": null,
   "id": "4cfce0c9-85d4-436d-93b2-2374805c2cf0",
   "metadata": {},
   "outputs": [],
   "source": []
  },
  {
   "cell_type": "code",
   "execution_count": null,
   "id": "c77f7e5d-4cec-471d-a942-9d6bf67fc6bd",
   "metadata": {},
   "outputs": [],
   "source": [
    "import folium\n",
    "import branca.colormap as cm\n",
    "#create a map\n",
    "this_map = folium.Map(prefer_canvas=True)\n",
    "\n",
    "#create a color map\n",
    "color_var = 'temporal_coherence' #what variable will determine the color\n",
    "cmap = cm.LinearColormap(['cyan', 'red'],\n",
    "                         vmin=full_gm_data[color_var].quantile(0.05), vmax=full_gm_data[color_var].quantile(0.95),\n",
    "                         caption = color_var)\n",
    "\n",
    "#Add the color map legend to your map\n",
    "this_map.add_child(cmap)\n",
    "\n",
    "def plotDot(point):\n",
    "    '''input: series that contains a numeric named latitude and a numeric named longitude\n",
    "    this function creates a CircleMarker and adds it to your this_map'''\n",
    "    folium.CircleMarker(location=[point.latitude, point.longitude],\n",
    "                        fill_color=cmap(point[color_var]),\n",
    "                        radius=2,\n",
    "                        weight=0).add_to(this_map)\n",
    "\n",
    "#use df.apply(,axis=1) to iterate through every row in your dataframe\n",
    "full_gm_data.apply(plotDot, axis = 1)\n",
    "\n",
    "#Set the zoom to the maximum possible\n",
    "this_map.fit_bounds(this_map.get_bounds())\n",
    "\n",
    "#Save the map to an HTML file\n",
    "this_map.save(os.path.join('figures/temporal_coherence.html'))\n",
    "\n",
    "\n",
    "this_map\n",
    "\n"
   ]
  },
  {
   "cell_type": "code",
   "execution_count": null,
   "id": "2ff53c0d-27d8-4227-a424-54434e5f953b",
   "metadata": {},
   "outputs": [],
   "source": [
    "import folium\n",
    "import branca.colormap as cm\n",
    "#create a map\n",
    "this_map = folium.Map(prefer_canvas=True)\n",
    "\n",
    "#create a color map\n",
    "color_var = 'height' #what variable will determine the color\n",
    "cmap = cm.LinearColormap(['cyan', 'red'],\n",
    "                         vmin=full_gm_data[color_var].min(), vmax=full_gm_data[color_var].max(),\n",
    "                         caption = color_var)\n",
    "\n",
    "#Add the color map legend to your map\n",
    "this_map.add_child(cmap)\n",
    "\n",
    "def plotDot(point):\n",
    "    '''input: series that contains a numeric named latitude and a numeric named longitude\n",
    "    this function creates a CircleMarker and adds it to your this_map'''\n",
    "    folium.CircleMarker(location=[point.latitude, point.longitude],\n",
    "                        fill_color=cmap(point[color_var]),\n",
    "                        radius=2,\n",
    "                        weight=0).add_to(this_map)\n",
    "\n",
    "#use df.apply(,axis=1) to iterate through every row in your dataframe\n",
    "full_gm_data.apply(plotDot, axis = 1)\n",
    "\n",
    "#Set the zoom to the maximum possible\n",
    "this_map.fit_bounds(this_map.get_bounds())\n",
    "\n",
    "#Save the map to an HTML file\n",
    "this_map.save(os.path.join('figures/height.html'))\n",
    "\n",
    "\n",
    "this_map\n",
    "\n"
   ]
  },
  {
   "cell_type": "code",
   "execution_count": null,
   "id": "1510b37e-f03f-44bd-85a2-f14ff23e6ef7",
   "metadata": {},
   "outputs": [],
   "source": [
    "import folium\n",
    "import branca.colormap as cm\n",
    "#create a map\n",
    "this_map = folium.Map(prefer_canvas=True)\n",
    "\n",
    "#create a color map\n",
    "color_var = 'rmse' #what variable will determine the color\n",
    "cmap = cm.LinearColormap(['cyan', 'red'],\n",
    "                         vmin=full_gm_data[color_var].quantile(0.05), vmax=full_gm_data[color_var].quantile(0.95),\n",
    "                         caption = color_var)\n",
    "\n",
    "#Add the color map legend to your map\n",
    "this_map.add_child(cmap)\n",
    "\n",
    "def plotDot(point):\n",
    "    '''input: series that contains a numeric named latitude and a numeric named longitude\n",
    "    this function creates a CircleMarker and adds it to your this_map'''\n",
    "    folium.CircleMarker(location=[point.latitude, point.longitude],\n",
    "                        fill_color=cmap(point[color_var]),\n",
    "                        radius=2,\n",
    "                        weight=0).add_to(this_map)\n",
    "\n",
    "#use df.apply(,axis=1) to iterate through every row in your dataframe\n",
    "full_gm_data.apply(plotDot, axis = 1)\n",
    "\n",
    "#Set the zoom to the maximum possible\n",
    "this_map.fit_bounds(this_map.get_bounds())\n",
    "\n",
    "#Save the map to an HTML file\n",
    "this_map.save(os.path.join('figures/rmse.html'))\n",
    "\n",
    "\n",
    "#this_map\n",
    "\n"
   ]
  },
  {
   "cell_type": "code",
   "execution_count": null,
   "id": "b86bb5e3-c868-452c-804a-dc12a1af9c00",
   "metadata": {},
   "outputs": [],
   "source": [
    "import folium\n",
    "import branca.colormap as cm\n",
    "#create a map\n",
    "this_map = folium.Map(prefer_canvas=True)\n",
    "\n",
    "#create a color map\n",
    "color_var = 'mean_velocity' #what variable will determine the color\n",
    "cmap = cm.LinearColormap(['cyan', 'red'],\n",
    "                         vmin=full_gm_data[color_var].quantile(0.05), vmax=full_gm_data[color_var].quantile(0.95),\n",
    "                         caption = color_var)\n",
    "\n",
    "#Add the color map legend to your map\n",
    "this_map.add_child(cmap)\n",
    "\n",
    "def plotDot(point):\n",
    "    '''input: series that contains a numeric named latitude and a numeric named longitude\n",
    "    this function creates a CircleMarker and adds it to your this_map'''\n",
    "    folium.CircleMarker(location=[point.latitude, point.longitude],\n",
    "                        fill_color=cmap(point[color_var]),\n",
    "                        radius=2,\n",
    "                        weight=0).add_to(this_map)\n",
    "\n",
    "#use df.apply(,axis=1) to iterate through every row in your dataframe\n",
    "full_gm_data.apply(plotDot, axis = 1)\n",
    "\n",
    "#Set the zoom to the maximum possible\n",
    "this_map.fit_bounds(this_map.get_bounds())\n",
    "\n",
    "#Save the map to an HTML file\n",
    "this_map.save(os.path.join('figures/mean_velocity.html'))\n",
    "\n",
    "\n",
    "this_map\n",
    "\n"
   ]
  },
  {
   "cell_type": "code",
   "execution_count": null,
   "id": "2e03825b-aacf-4df1-b304-64824a1d6751",
   "metadata": {},
   "outputs": [],
   "source": [
    "import folium\n",
    "import branca.colormap as cm\n",
    "#create a map\n",
    "this_map = folium.Map(prefer_canvas=True)\n",
    "\n",
    "#create a color map\n",
    "color_var = 'incidence_angle' #what variable will determine the color\n",
    "cmap = cm.LinearColormap(['cyan', 'red'],\n",
    "                         vmin=full_gm_data[color_var].min(), vmax=full_gm_data[color_var].max(),\n",
    "                         caption = color_var)\n",
    "\n",
    "#Add the color map legend to your map\n",
    "this_map.add_child(cmap)\n",
    "\n",
    "def plotDot(point):\n",
    "    '''input: series that contains a numeric named latitude and a numeric named longitude\n",
    "    this function creates a CircleMarker and adds it to your this_map'''\n",
    "    folium.CircleMarker(location=[point.latitude, point.longitude],\n",
    "                        fill_color=cmap(point[color_var]),\n",
    "                        radius=2,\n",
    "                        weight=0).add_to(this_map)\n",
    "\n",
    "#use df.apply(,axis=1) to iterate through every row in your dataframe\n",
    "full_gm_data.apply(plotDot, axis = 1)\n",
    "\n",
    "#Set the zoom to the maximum possible\n",
    "this_map.fit_bounds(this_map.get_bounds())\n",
    "\n",
    "#Save the map to an HTML file\n",
    "this_map.save(os.path.join('figures/incidence_angle.html'))\n",
    "\n",
    "\n",
    "#this_map\n",
    "\n"
   ]
  },
  {
   "cell_type": "code",
   "execution_count": null,
   "id": "1680b4ab-f68f-423f-9a53-21fad88a8b8c",
   "metadata": {},
   "outputs": [],
   "source": [
    "import folium\n",
    "import branca.colormap as cm\n",
    "#create a map\n",
    "this_map = folium.Map(prefer_canvas=True)\n",
    "\n",
    "#create a color map\n",
    "color_var = 'track_angle' #what variable will determine the color\n",
    "cmap = cm.LinearColormap(['cyan', 'red'],\n",
    "                         vmin=full_gm_data[color_var].min(), vmax=full_gm_data[color_var].max(),\n",
    "                         caption = color_var)\n",
    "\n",
    "#Add the color map legend to your map\n",
    "this_map.add_child(cmap)\n",
    "\n",
    "def plotDot(point):\n",
    "    '''input: series that contains a numeric named latitude and a numeric named longitude\n",
    "    this function creates a CircleMarker and adds it to your this_map'''\n",
    "    folium.CircleMarker(location=[point.latitude, point.longitude],\n",
    "                        fill_color=cmap(point[color_var]),\n",
    "                        radius=2,\n",
    "                        weight=0).add_to(this_map)\n",
    "\n",
    "#use df.apply(,axis=1) to iterate through every row in your dataframe\n",
    "full_gm_data.apply(plotDot, axis = 1)\n",
    "\n",
    "#Set the zoom to the maximum possible\n",
    "this_map.fit_bounds(this_map.get_bounds())\n",
    "\n",
    "#Save the map to an HTML file\n",
    "this_map.save(os.path.join('figures/track_angle.html'))\n",
    "\n",
    "\n",
    "this_map\n",
    "\n"
   ]
  },
  {
   "cell_type": "code",
   "execution_count": null,
   "id": "a2c0a95a-1b25-4d37-b27c-e39da38e734c",
   "metadata": {},
   "outputs": [],
   "source": [
    "import folium\n",
    "import branca.colormap as cm\n",
    "#create a map\n",
    "this_map = folium.Map(prefer_canvas=True)\n",
    "\n",
    "#create a color map\n",
    "color_var = 'los_up' #what variable will determine the color\n",
    "cmap = cm.LinearColormap(['cyan', 'red'],\n",
    "                         vmin=full_gm_data[color_var].min(), vmax=full_gm_data[color_var].max(),\n",
    "                         caption = color_var)\n",
    "\n",
    "#Add the color map legend to your map\n",
    "this_map.add_child(cmap)\n",
    "\n",
    "def plotDot(point):\n",
    "    '''input: series that contains a numeric named latitude and a numeric named longitude\n",
    "    this function creates a CircleMarker and adds it to your this_map'''\n",
    "    folium.CircleMarker(location=[point.latitude, point.longitude],\n",
    "                        fill_color=cmap(point[color_var]),\n",
    "                        radius=2,\n",
    "                        weight=0).add_to(this_map)\n",
    "\n",
    "#use df.apply(,axis=1) to iterate through every row in your dataframe\n",
    "full_gm_data.apply(plotDot, axis = 1)\n",
    "\n",
    "#Set the zoom to the maximum possible\n",
    "this_map.fit_bounds(this_map.get_bounds())\n",
    "\n",
    "#Save the map to an HTML file\n",
    "this_map.save(os.path.join('figures/los_up.html'))\n",
    "\n",
    "\n",
    "#this_map\n",
    "\n"
   ]
  },
  {
   "cell_type": "code",
   "execution_count": null,
   "id": "79d3c58a-ea21-4a0b-a243-71be31a5d84e",
   "metadata": {},
   "outputs": [],
   "source": [
    "import folium\n",
    "import branca.colormap as cm\n",
    "#create a map\n",
    "this_map = folium.Map(prefer_canvas=True)\n",
    "\n",
    "#create a color map\n",
    "color_var = 'los_east' #what variable will determine the color\n",
    "cmap = cm.LinearColormap(['cyan', 'red'],\n",
    "                         vmin=full_gm_data[color_var].min(), vmax=full_gm_data[color_var].max(),\n",
    "                         caption = color_var)\n",
    "\n",
    "#Add the color map legend to your map\n",
    "this_map.add_child(cmap)\n",
    "\n",
    "def plotDot(point):\n",
    "    '''input: series that contains a numeric named latitude and a numeric named longitude\n",
    "    this function creates a CircleMarker and adds it to your this_map'''\n",
    "    folium.CircleMarker(location=[point.latitude, point.longitude],\n",
    "                        fill_color=cmap(point[color_var]),\n",
    "                        radius=2,\n",
    "                        weight=0).add_to(this_map)\n",
    "\n",
    "#use df.apply(,axis=1) to iterate through every row in your dataframe\n",
    "full_gm_data.apply(plotDot, axis = 1)\n",
    "\n",
    "#Set the zoom to the maximum possible\n",
    "this_map.fit_bounds(this_map.get_bounds())\n",
    "\n",
    "#Save the map to an HTML file\n",
    "this_map.save(os.path.join('figures/los_east.html'))\n",
    "\n",
    "\n",
    "this_map\n",
    "\n"
   ]
  },
  {
   "cell_type": "code",
   "execution_count": null,
   "id": "76022d85-8980-41bb-a489-851caee8bae1",
   "metadata": {},
   "outputs": [],
   "source": []
  }
 ],
 "metadata": {
  "kernelspec": {
   "display_name": "Python 3 (ipykernel)",
   "language": "python",
   "name": "python3"
  },
  "language_info": {
   "codemirror_mode": {
    "name": "ipython",
    "version": 3
   },
   "file_extension": ".py",
   "mimetype": "text/x-python",
   "name": "python",
   "nbconvert_exporter": "python",
   "pygments_lexer": "ipython3",
   "version": "3.10.2"
  }
 },
 "nbformat": 4,
 "nbformat_minor": 5
}
